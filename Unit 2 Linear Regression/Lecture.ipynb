{
 "cells": [
  {
   "cell_type": "code",
   "execution_count": 1,
   "metadata": {
    "collapsed": true
   },
   "outputs": [],
   "source": [
    "wine = read.csv(\"wine.csv\")"
   ]
  },
  {
   "cell_type": "code",
   "execution_count": 2,
   "metadata": {
    "collapsed": true
   },
   "outputs": [],
   "source": [
    "model = lm(formula = Price ~ HarvestRain + WinterRain, data = wine)"
   ]
  },
  {
   "cell_type": "code",
   "execution_count": 3,
   "metadata": {
    "collapsed": false
   },
   "outputs": [
    {
     "data": {
      "text/plain": [
       "\n",
       "Call:\n",
       "lm(formula = Price ~ HarvestRain + WinterRain, data = wine)\n",
       "\n",
       "Residuals:\n",
       "    Min      1Q  Median      3Q     Max \n",
       "-1.0933 -0.3222 -0.1012  0.3871  1.1877 \n",
       "\n",
       "Coefficients:\n",
       "              Estimate Std. Error t value Pr(>|t|)    \n",
       "(Intercept)  7.865e+00  6.616e-01  11.888 4.76e-11 ***\n",
       "HarvestRain -4.971e-03  1.601e-03  -3.105  0.00516 ** \n",
       "WinterRain  -9.848e-05  9.007e-04  -0.109  0.91392    \n",
       "---\n",
       "Signif. codes:  0 ‘***’ 0.001 ‘**’ 0.01 ‘*’ 0.05 ‘.’ 0.1 ‘ ’ 1\n",
       "\n",
       "Residual standard error: 0.5611 on 22 degrees of freedom\n",
       "Multiple R-squared:  0.3177,\tAdjusted R-squared:  0.2557 \n",
       "F-statistic: 5.122 on 2 and 22 DF,  p-value: 0.01492\n"
      ]
     },
     "execution_count": 3,
     "metadata": {},
     "output_type": "execute_result"
    }
   ],
   "source": [
    "summary(model)"
   ]
  },
  {
   "cell_type": "code",
   "execution_count": 4,
   "metadata": {
    "collapsed": false
   },
   "outputs": [
    {
     "data": {
      "text/html": [
       "<table>\n",
       "<thead><tr><th></th><th scope=col>Year</th><th scope=col>Price</th><th scope=col>WinterRain</th><th scope=col>AGST</th><th scope=col>HarvestRain</th><th scope=col>Age</th><th scope=col>FrancePop</th></tr></thead>\n",
       "<tbody>\n",
       "\t<tr><th scope=row>Year</th><td> 1.00000000</td><td>-0.44776786</td><td> 0.01697002</td><td>-0.24691585</td><td> 0.02800907</td><td>-1.00000000</td><td> 0.99448510</td></tr>\n",
       "\t<tr><th scope=row>Price</th><td>-0.4477679</td><td> 1.0000000</td><td> 0.1366505</td><td> 0.6595629</td><td>-0.5633219</td><td> 0.4477679</td><td>-0.4668616</td></tr>\n",
       "\t<tr><th scope=row>WinterRain</th><td> 0.016970024</td><td> 0.136650547</td><td> 1.000000000</td><td>-0.321090611</td><td>-0.275440854</td><td>-0.016970024</td><td>-0.001621627</td></tr>\n",
       "\t<tr><th scope=row>AGST</th><td>-0.24691585</td><td> 0.65956286</td><td>-0.32109061</td><td> 1.00000000</td><td>-0.06449593</td><td> 0.24691585</td><td>-0.25916227</td></tr>\n",
       "\t<tr><th scope=row>HarvestRain</th><td> 0.02800907</td><td>-0.56332190</td><td>-0.27544085</td><td>-0.06449593</td><td> 1.00000000</td><td>-0.02800907</td><td> 0.04126439</td></tr>\n",
       "\t<tr><th scope=row>Age</th><td>-1.00000000</td><td> 0.44776786</td><td>-0.01697002</td><td> 0.24691585</td><td>-0.02800907</td><td> 1.00000000</td><td>-0.99448510</td></tr>\n",
       "\t<tr><th scope=row>FrancePop</th><td> 0.994485097</td><td>-0.466861641</td><td>-0.001621627</td><td>-0.259162274</td><td> 0.041264394</td><td>-0.994485097</td><td> 1.000000000</td></tr>\n",
       "</tbody>\n",
       "</table>\n"
      ],
      "text/latex": [
       "\\begin{tabular}{r|lllllll}\n",
       "  & Year & Price & WinterRain & AGST & HarvestRain & Age & FrancePop\\\\\n",
       "\\hline\n",
       "\tYear &  1.00000000 & -0.44776786 &  0.01697002 & -0.24691585 &  0.02800907 & -1.00000000 &  0.99448510\\\\\n",
       "\tPrice & -0.4477679 &  1.0000000 &  0.1366505 &  0.6595629 & -0.5633219 &  0.4477679 & -0.4668616\\\\\n",
       "\tWinterRain &  0.016970024 &  0.136650547 &  1.000000000 & -0.321090611 & -0.275440854 & -0.016970024 & -0.001621627\\\\\n",
       "\tAGST & -0.24691585 &  0.65956286 & -0.32109061 &  1.00000000 & -0.06449593 &  0.24691585 & -0.25916227\\\\\n",
       "\tHarvestRain &  0.02800907 & -0.56332190 & -0.27544085 & -0.06449593 &  1.00000000 & -0.02800907 &  0.04126439\\\\\n",
       "\tAge & -1.00000000 &  0.44776786 & -0.01697002 &  0.24691585 & -0.02800907 &  1.00000000 & -0.99448510\\\\\n",
       "\tFrancePop &  0.994485097 & -0.466861641 & -0.001621627 & -0.259162274 &  0.041264394 & -0.994485097 &  1.000000000\\\\\n",
       "\\end{tabular}\n"
      ],
      "text/markdown": [
       "1. 1\n",
       "2. -0.447767855382989\n",
       "3. 0.0169700237062503\n",
       "4. -0.246915850391149\n",
       "5. 0.0280090727015615\n",
       "6. -1\n",
       "7. 0.994485097111455\n",
       "8. -0.447767855382989\n",
       "9. 1\n",
       "10. 0.13665054738763\n",
       "11. 0.659562861143591\n",
       "12. -0.563321903510208\n",
       "13. 0.447767855382989\n",
       "14. -0.466861641249636\n",
       "15. 0.0169700237062503\n",
       "16. 0.13665054738763\n",
       "17. 1\n",
       "18. -0.321090610600727\n",
       "19. -0.275440854498618\n",
       "20. -0.0169700237062503\n",
       "21. -0.00162162696466083\n",
       "22. -0.246915850391149\n",
       "23. 0.659562861143591\n",
       "24. -0.321090610600727\n",
       "25. 1\n",
       "26. -0.0644959302726223\n",
       "27. 0.246915850391149\n",
       "28. -0.259162273546354\n",
       "29. 0.0280090727015615\n",
       "30. -0.563321903510208\n",
       "31. -0.275440854498618\n",
       "32. -0.0644959302726223\n",
       "33. 1\n",
       "34. -0.0280090727015615\n",
       "35. 0.041264394415047\n",
       "36. -1\n",
       "37. 0.447767855382989\n",
       "38. -0.0169700237062503\n",
       "39. 0.246915850391149\n",
       "40. -0.0280090727015615\n",
       "41. 1\n",
       "42. -0.994485097111455\n",
       "43. 0.994485097111455\n",
       "44. -0.466861641249636\n",
       "45. -0.00162162696466083\n",
       "46. -0.259162273546354\n",
       "47. 0.041264394415047\n",
       "48. -0.994485097111455\n",
       "49. 1\n",
       "\n",
       "\n"
      ],
      "text/plain": [
       "                   Year      Price   WinterRain        AGST HarvestRain\n",
       "Year         1.00000000 -0.4477679  0.016970024 -0.24691585  0.02800907\n",
       "Price       -0.44776786  1.0000000  0.136650547  0.65956286 -0.56332190\n",
       "WinterRain   0.01697002  0.1366505  1.000000000 -0.32109061 -0.27544085\n",
       "AGST        -0.24691585  0.6595629 -0.321090611  1.00000000 -0.06449593\n",
       "HarvestRain  0.02800907 -0.5633219 -0.275440854 -0.06449593  1.00000000\n",
       "Age         -1.00000000  0.4477679 -0.016970024  0.24691585 -0.02800907\n",
       "FrancePop    0.99448510 -0.4668616 -0.001621627 -0.25916227  0.04126439\n",
       "                    Age    FrancePop\n",
       "Year        -1.00000000  0.994485097\n",
       "Price        0.44776786 -0.466861641\n",
       "WinterRain  -0.01697002 -0.001621627\n",
       "AGST         0.24691585 -0.259162274\n",
       "HarvestRain -0.02800907  0.041264394\n",
       "Age          1.00000000 -0.994485097\n",
       "FrancePop   -0.99448510  1.000000000"
      ]
     },
     "execution_count": 4,
     "metadata": {},
     "output_type": "execute_result"
    }
   ],
   "source": [
    "cor(wine)"
   ]
  },
  {
   "cell_type": "markdown",
   "metadata": {},
   "source": [
    "**Moneyball**"
   ]
  },
  {
   "cell_type": "code",
   "execution_count": null,
   "metadata": {
    "collapsed": true
   },
   "outputs": [],
   "source": []
  }
 ],
 "metadata": {
  "kernelspec": {
   "display_name": "R",
   "language": "R",
   "name": "ir"
  },
  "language_info": {
   "codemirror_mode": "r",
   "file_extension": ".r",
   "mimetype": "text/x-r-source",
   "name": "R",
   "pygments_lexer": "r",
   "version": "3.2.2"
  }
 },
 "nbformat": 4,
 "nbformat_minor": 0
}
