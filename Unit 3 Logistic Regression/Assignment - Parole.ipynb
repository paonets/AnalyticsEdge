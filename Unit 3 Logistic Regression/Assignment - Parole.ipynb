{
 "cells": [
  {
   "cell_type": "code",
   "execution_count": 1,
   "metadata": {
    "collapsed": false
   },
   "outputs": [
    {
     "name": "stdout",
     "output_type": "stream",
     "text": [
      "'data.frame':\t675 obs. of  9 variables:\n",
      " $ male             : int  1 0 1 1 1 1 1 0 0 1 ...\n",
      " $ race             : int  1 1 2 1 2 2 1 1 1 2 ...\n",
      " $ age              : num  33.2 39.7 29.5 22.4 21.6 46.7 31 24.6 32.6 29.1 ...\n",
      " $ state            : int  1 1 1 1 1 1 1 1 1 1 ...\n",
      " $ time.served      : num  5.5 5.4 5.6 5.7 5.4 6 6 4.8 4.5 4.7 ...\n",
      " $ max.sentence     : int  18 12 12 18 12 18 18 12 13 12 ...\n",
      " $ multiple.offenses: int  0 0 0 0 0 0 0 0 0 0 ...\n",
      " $ crime            : int  4 3 3 1 1 4 3 1 3 2 ...\n",
      " $ violator         : int  0 0 0 0 0 0 0 0 0 0 ...\n"
     ]
    }
   ],
   "source": [
    "parole = read.csv(\"parole.csv\")\n",
    "str(parole)"
   ]
  },
  {
   "cell_type": "code",
   "execution_count": 2,
   "metadata": {
    "collapsed": false
   },
   "outputs": [
    {
     "data": {
      "text/plain": [
       "\n",
       "  0   1 \n",
       "597  78 "
      ]
     },
     "execution_count": 2,
     "metadata": {},
     "output_type": "execute_result"
    }
   ],
   "source": [
    "table(parole$violator)"
   ]
  },
  {
   "cell_type": "code",
   "execution_count": 3,
   "metadata": {
    "collapsed": false
   },
   "outputs": [
    {
     "data": {
      "text/plain": [
       "      male             race            age            state      \n",
       " Min.   :0.0000   Min.   :1.000   Min.   :18.40   Min.   :1.000  \n",
       " 1st Qu.:1.0000   1st Qu.:1.000   1st Qu.:25.35   1st Qu.:2.000  \n",
       " Median :1.0000   Median :1.000   Median :33.70   Median :3.000  \n",
       " Mean   :0.8074   Mean   :1.424   Mean   :34.51   Mean   :2.887  \n",
       " 3rd Qu.:1.0000   3rd Qu.:2.000   3rd Qu.:42.55   3rd Qu.:4.000  \n",
       " Max.   :1.0000   Max.   :2.000   Max.   :67.00   Max.   :4.000  \n",
       "  time.served     max.sentence   multiple.offenses     crime      \n",
       " Min.   :0.000   Min.   : 1.00   Min.   :0.0000    Min.   :1.000  \n",
       " 1st Qu.:3.250   1st Qu.:12.00   1st Qu.:0.0000    1st Qu.:1.000  \n",
       " Median :4.400   Median :12.00   Median :1.0000    Median :2.000  \n",
       " Mean   :4.198   Mean   :13.06   Mean   :0.5363    Mean   :2.059  \n",
       " 3rd Qu.:5.200   3rd Qu.:15.00   3rd Qu.:1.0000    3rd Qu.:3.000  \n",
       " Max.   :6.000   Max.   :18.00   Max.   :1.0000    Max.   :4.000  \n",
       "    violator     \n",
       " Min.   :0.0000  \n",
       " 1st Qu.:0.0000  \n",
       " Median :0.0000  \n",
       " Mean   :0.1156  \n",
       " 3rd Qu.:0.0000  \n",
       " Max.   :1.0000  "
      ]
     },
     "execution_count": 3,
     "metadata": {},
     "output_type": "execute_result"
    }
   ],
   "source": [
    "summary(parole)"
   ]
  },
  {
   "cell_type": "code",
   "execution_count": 5,
   "metadata": {
    "collapsed": true
   },
   "outputs": [],
   "source": [
    "parole$state = as.factor(parole$state)\n",
    "parole$crime = as.factor(parole$crime)"
   ]
  },
  {
   "cell_type": "code",
   "execution_count": 6,
   "metadata": {
    "collapsed": false
   },
   "outputs": [
    {
     "data": {
      "text/plain": [
       "      male             race            age        state    time.served   \n",
       " Min.   :0.0000   Min.   :1.000   Min.   :18.40   1:143   Min.   :0.000  \n",
       " 1st Qu.:1.0000   1st Qu.:1.000   1st Qu.:25.35   2:120   1st Qu.:3.250  \n",
       " Median :1.0000   Median :1.000   Median :33.70   3: 82   Median :4.400  \n",
       " Mean   :0.8074   Mean   :1.424   Mean   :34.51   4:330   Mean   :4.198  \n",
       " 3rd Qu.:1.0000   3rd Qu.:2.000   3rd Qu.:42.55           3rd Qu.:5.200  \n",
       " Max.   :1.0000   Max.   :2.000   Max.   :67.00           Max.   :6.000  \n",
       "  max.sentence   multiple.offenses crime      violator     \n",
       " Min.   : 1.00   Min.   :0.0000    1:315   Min.   :0.0000  \n",
       " 1st Qu.:12.00   1st Qu.:0.0000    2:106   1st Qu.:0.0000  \n",
       " Median :12.00   Median :1.0000    3:153   Median :0.0000  \n",
       " Mean   :13.06   Mean   :0.5363    4:101   Mean   :0.1156  \n",
       " 3rd Qu.:15.00   3rd Qu.:1.0000            3rd Qu.:0.0000  \n",
       " Max.   :18.00   Max.   :1.0000            Max.   :1.0000  "
      ]
     },
     "execution_count": 6,
     "metadata": {},
     "output_type": "execute_result"
    }
   ],
   "source": [
    "summary(parole)"
   ]
  },
  {
   "cell_type": "code",
   "execution_count": 7,
   "metadata": {
    "collapsed": true
   },
   "outputs": [],
   "source": [
    "set.seed(144)\n",
    " library(caTools)\n",
    "\n",
    "split = sample.split(parole$violator, SplitRatio = 0.7)\n",
    "\n",
    "train = subset(parole, split == TRUE)\n",
    "\n",
    "test = subset(parole, split == FALSE)"
   ]
  },
  {
   "cell_type": "code",
   "execution_count": 9,
   "metadata": {
    "collapsed": false
   },
   "outputs": [],
   "source": [
    "paroleLog1 = glm(violator ~ ., data=train, family=binomial)"
   ]
  },
  {
   "cell_type": "code",
   "execution_count": 10,
   "metadata": {
    "collapsed": false
   },
   "outputs": [
    {
     "data": {
      "text/plain": [
       "\n",
       "Call:\n",
       "glm(formula = violator ~ ., family = binomial, data = train)\n",
       "\n",
       "Deviance Residuals: \n",
       "    Min       1Q   Median       3Q      Max  \n",
       "-1.7041  -0.4236  -0.2719  -0.1690   2.8375  \n",
       "\n",
       "Coefficients:\n",
       "                    Estimate Std. Error z value Pr(>|z|)    \n",
       "(Intercept)       -4.2411574  1.2938852  -3.278  0.00105 ** \n",
       "male               0.3869904  0.4379613   0.884  0.37690    \n",
       "race               0.8867192  0.3950660   2.244  0.02480 *  \n",
       "age               -0.0001756  0.0160852  -0.011  0.99129    \n",
       "state2             0.4433007  0.4816619   0.920  0.35739    \n",
       "state3             0.8349797  0.5562704   1.501  0.13335    \n",
       "state4            -3.3967878  0.6115860  -5.554 2.79e-08 ***\n",
       "time.served       -0.1238867  0.1204230  -1.029  0.30359    \n",
       "max.sentence       0.0802954  0.0553747   1.450  0.14705    \n",
       "multiple.offenses  1.6119919  0.3853050   4.184 2.87e-05 ***\n",
       "crime2             0.6837143  0.5003550   1.366  0.17180    \n",
       "crime3            -0.2781054  0.4328356  -0.643  0.52054    \n",
       "crime4            -0.0117627  0.5713035  -0.021  0.98357    \n",
       "---\n",
       "Signif. codes:  0 ‘***’ 0.001 ‘**’ 0.01 ‘*’ 0.05 ‘.’ 0.1 ‘ ’ 1\n",
       "\n",
       "(Dispersion parameter for binomial family taken to be 1)\n",
       "\n",
       "    Null deviance: 340.04  on 472  degrees of freedom\n",
       "Residual deviance: 251.48  on 460  degrees of freedom\n",
       "AIC: 277.48\n",
       "\n",
       "Number of Fisher Scoring iterations: 6\n"
      ]
     },
     "execution_count": 10,
     "metadata": {},
     "output_type": "execute_result"
    }
   ],
   "source": [
    "summary(paroleLog1)"
   ]
  },
  {
   "cell_type": "code",
   "execution_count": 11,
   "metadata": {
    "collapsed": false
   },
   "outputs": [
    {
     "data": {
      "text/html": [
       "5.01278625885232"
      ],
      "text/latex": [
       "5.01278625885232"
      ],
      "text/markdown": [
       "5.01278625885232"
      ],
      "text/plain": [
       "[1] 5.012786"
      ]
     },
     "execution_count": 11,
     "metadata": {},
     "output_type": "execute_result"
    }
   ],
   "source": [
    "exp(1.6119919)"
   ]
  },
  {
   "cell_type": "code",
   "execution_count": 15,
   "metadata": {
    "collapsed": false
   },
   "outputs": [
    {
     "data": {
      "text/html": [
       "0.18256868876081"
      ],
      "text/latex": [
       "0.18256868876081"
      ],
      "text/markdown": [
       "0.18256868876081"
      ],
      "text/plain": [
       "[1] 0.1825687"
      ]
     },
     "execution_count": 15,
     "metadata": {},
     "output_type": "execute_result"
    }
   ],
   "source": [
    "# Consider a parolee who is male, of white race, aged 50 years at prison release, \n",
    "# from the state of Maryland, served 3 months, had a maximum sentence of 12 months,\n",
    "# did not commit multiple offenses, and committed a larceny.\n",
    "exp(-4.2411574 + 0.3869904 + 0.8867192 + (-0.0001756 * 50) + (-0.1238867 * 3) + (0.0802954 * 12) + 0.6837143)"
   ]
  },
  {
   "cell_type": "code",
   "execution_count": 16,
   "metadata": {
    "collapsed": false
   },
   "outputs": [
    {
     "data": {
      "text/html": [
       "0.154383158032131"
      ],
      "text/latex": [
       "0.154383158032131"
      ],
      "text/markdown": [
       "0.154383158032131"
      ],
      "text/plain": [
       "[1] 0.1543832"
      ]
     },
     "execution_count": 16,
     "metadata": {},
     "output_type": "execute_result"
    }
   ],
   "source": [
    "1/(1+ exp(-1 * (-4.2411574 + 0.3869904 + 0.8867192 + (-0.0001756 * 50) + (-0.1238867 * 3) + (0.0802954 * 12) + 0.6837143)))"
   ]
  },
  {
   "cell_type": "code",
   "execution_count": 17,
   "metadata": {
    "collapsed": true
   },
   "outputs": [],
   "source": [
    "predictTest = predict(paroleLog1, type=\"response\", newdata=test)"
   ]
  },
  {
   "cell_type": "code",
   "execution_count": 18,
   "metadata": {
    "collapsed": false
   },
   "outputs": [
    {
     "data": {
      "text/plain": [
       "    Min.  1st Qu.   Median     Mean  3rd Qu.     Max. \n",
       "0.002334 0.023780 0.057910 0.146600 0.147500 0.907300 "
      ]
     },
     "execution_count": 18,
     "metadata": {},
     "output_type": "execute_result"
    }
   ],
   "source": [
    "summary(predictTest)"
   ]
  },
  {
   "cell_type": "code",
   "execution_count": 19,
   "metadata": {
    "collapsed": false
   },
   "outputs": [
    {
     "data": {
      "text/plain": [
       "   \n",
       "    FALSE TRUE\n",
       "  0   167   12\n",
       "  1    11   12"
      ]
     },
     "execution_count": 19,
     "metadata": {},
     "output_type": "execute_result"
    }
   ],
   "source": [
    "table(test$violator, predictTest > 0.5)"
   ]
  },
  {
   "cell_type": "code",
   "execution_count": 20,
   "metadata": {
    "collapsed": false
   },
   "outputs": [
    {
     "data": {
      "text/html": [
       "0.521739130434783"
      ],
      "text/latex": [
       "0.521739130434783"
      ],
      "text/markdown": [
       "0.521739130434783"
      ],
      "text/plain": [
       "[1] 0.5217391"
      ]
     },
     "execution_count": 20,
     "metadata": {},
     "output_type": "execute_result"
    }
   ],
   "source": [
    "#sensitivity\n",
    "(12)/(11+12)"
   ]
  },
  {
   "cell_type": "code",
   "execution_count": 21,
   "metadata": {
    "collapsed": false
   },
   "outputs": [
    {
     "data": {
      "text/html": [
       "0.932960893854749"
      ],
      "text/latex": [
       "0.932960893854749"
      ],
      "text/markdown": [
       "0.932960893854749"
      ],
      "text/plain": [
       "[1] 0.9329609"
      ]
     },
     "execution_count": 21,
     "metadata": {},
     "output_type": "execute_result"
    }
   ],
   "source": [
    "#specificity\n",
    "167/(167+12)"
   ]
  },
  {
   "cell_type": "code",
   "execution_count": 22,
   "metadata": {
    "collapsed": false
   },
   "outputs": [
    {
     "data": {
      "text/html": [
       "0.886138613861386"
      ],
      "text/latex": [
       "0.886138613861386"
      ],
      "text/markdown": [
       "0.886138613861386"
      ],
      "text/plain": [
       "[1] 0.8861386"
      ]
     },
     "execution_count": 22,
     "metadata": {},
     "output_type": "execute_result"
    }
   ],
   "source": [
    "#accuracy\n",
    "(167+12)/(167+12+11+12)"
   ]
  },
  {
   "cell_type": "code",
   "execution_count": 23,
   "metadata": {
    "collapsed": false
   },
   "outputs": [
    {
     "name": "stderr",
     "output_type": "stream",
     "text": [
      "Loading required package: gplots\n",
      "\n",
      "Attaching package: ‘gplots’\n",
      "\n",
      "The following object is masked from ‘package:stats’:\n",
      "\n",
      "    lowess\n",
      "\n"
     ]
    },
    {
     "data": {
      "text/html": [
       "0.894583434539713"
      ],
      "text/latex": [
       "0.894583434539713"
      ],
      "text/markdown": [
       "0.894583434539713"
      ],
      "text/plain": [
       "[1] 0.8945834"
      ]
     },
     "execution_count": 23,
     "metadata": {},
     "output_type": "execute_result"
    }
   ],
   "source": [
    "library(ROCR)\n",
    "ROCRpred = prediction(predictTest, test$violator)\n",
    "as.numeric(performance(ROCRpred, \"auc\")@y.values)\n"
   ]
  },
  {
   "cell_type": "code",
   "execution_count": null,
   "metadata": {
    "collapsed": true
   },
   "outputs": [],
   "source": []
  }
 ],
 "metadata": {
  "kernelspec": {
   "display_name": "R",
   "language": "R",
   "name": "ir"
  },
  "language_info": {
   "codemirror_mode": "r",
   "file_extension": ".r",
   "mimetype": "text/x-r-source",
   "name": "R",
   "pygments_lexer": "r",
   "version": "3.2.2"
  }
 },
 "nbformat": 4,
 "nbformat_minor": 0
}
