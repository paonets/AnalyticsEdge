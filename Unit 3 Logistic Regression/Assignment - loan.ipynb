{
 "cells": [
  {
   "cell_type": "code",
   "execution_count": 1,
   "metadata": {
    "collapsed": true
   },
   "outputs": [],
   "source": [
    "loans = read.csv('loans.csv')"
   ]
  },
  {
   "cell_type": "code",
   "execution_count": 2,
   "metadata": {
    "collapsed": false
   },
   "outputs": [
    {
     "name": "stdout",
     "output_type": "stream",
     "text": [
      "'data.frame':\t9578 obs. of  14 variables:\n",
      " $ credit.policy    : int  1 1 1 1 1 1 1 1 1 1 ...\n",
      " $ purpose          : Factor w/ 7 levels \"all_other\",\"credit_card\",..: 3 2 3 3 2 2 3 1 5 3 ...\n",
      " $ int.rate         : num  0.119 0.107 0.136 0.101 0.143 ...\n",
      " $ installment      : num  829 228 367 162 103 ...\n",
      " $ log.annual.inc   : num  11.4 11.1 10.4 11.4 11.3 ...\n",
      " $ dti              : num  19.5 14.3 11.6 8.1 15 ...\n",
      " $ fico             : int  737 707 682 712 667 727 667 722 682 707 ...\n",
      " $ days.with.cr.line: num  5640 2760 4710 2700 4066 ...\n",
      " $ revol.bal        : int  28854 33623 3511 33667 4740 50807 3839 24220 69909 5630 ...\n",
      " $ revol.util       : num  52.1 76.7 25.6 73.2 39.5 51 76.8 68.6 51.1 23 ...\n",
      " $ inq.last.6mths   : int  0 0 1 1 0 0 0 0 1 1 ...\n",
      " $ delinq.2yrs      : int  0 0 0 0 1 0 0 0 0 0 ...\n",
      " $ pub.rec          : int  0 0 0 0 0 0 1 0 0 0 ...\n",
      " $ not.fully.paid   : int  0 0 0 0 0 0 1 1 0 0 ...\n"
     ]
    }
   ],
   "source": [
    "str(loans)"
   ]
  },
  {
   "cell_type": "code",
   "execution_count": 3,
   "metadata": {
    "collapsed": false
   },
   "outputs": [
    {
     "data": {
      "text/plain": [
       "\n",
       "   0    1 \n",
       "8045 1533 "
      ]
     },
     "execution_count": 3,
     "metadata": {},
     "output_type": "execute_result"
    }
   ],
   "source": [
    "table(loans$not.fully.paid)"
   ]
  },
  {
   "cell_type": "code",
   "execution_count": 4,
   "metadata": {
    "collapsed": false
   },
   "outputs": [
    {
     "data": {
      "text/html": [
       "0.160054291083734"
      ],
      "text/latex": [
       "0.160054291083734"
      ],
      "text/markdown": [
       "0.160054291083734"
      ],
      "text/plain": [
       "[1] 0.1600543"
      ]
     },
     "execution_count": 4,
     "metadata": {},
     "output_type": "execute_result"
    }
   ],
   "source": [
    "1533 / (8045 + 1533 )"
   ]
  },
  {
   "cell_type": "code",
   "execution_count": 5,
   "metadata": {
    "collapsed": false
   },
   "outputs": [
    {
     "data": {
      "text/plain": [
       " credit.policy                 purpose        int.rate       installment    \n",
       " Min.   :0.000   all_other         :2331   Min.   :0.0600   Min.   : 15.67  \n",
       " 1st Qu.:1.000   credit_card       :1262   1st Qu.:0.1039   1st Qu.:163.77  \n",
       " Median :1.000   debt_consolidation:3957   Median :0.1221   Median :268.95  \n",
       " Mean   :0.805   educational       : 343   Mean   :0.1226   Mean   :319.09  \n",
       " 3rd Qu.:1.000   home_improvement  : 629   3rd Qu.:0.1407   3rd Qu.:432.76  \n",
       " Max.   :1.000   major_purchase    : 437   Max.   :0.2164   Max.   :940.14  \n",
       "                 small_business    : 619                                    \n",
       " log.annual.inc        dti              fico       days.with.cr.line\n",
       " Min.   : 7.548   Min.   : 0.000   Min.   :612.0   Min.   :  179    \n",
       " 1st Qu.:10.558   1st Qu.: 7.213   1st Qu.:682.0   1st Qu.: 2820    \n",
       " Median :10.928   Median :12.665   Median :707.0   Median : 4140    \n",
       " Mean   :10.932   Mean   :12.607   Mean   :710.8   Mean   : 4562    \n",
       " 3rd Qu.:11.290   3rd Qu.:17.950   3rd Qu.:737.0   3rd Qu.: 5730    \n",
       " Max.   :14.528   Max.   :29.960   Max.   :827.0   Max.   :17640    \n",
       " NA's   :4                                         NA's   :29       \n",
       "   revol.bal         revol.util     inq.last.6mths    delinq.2yrs     \n",
       " Min.   :      0   Min.   :  0.00   Min.   : 0.000   Min.   : 0.0000  \n",
       " 1st Qu.:   3187   1st Qu.: 22.70   1st Qu.: 0.000   1st Qu.: 0.0000  \n",
       " Median :   8596   Median : 46.40   Median : 1.000   Median : 0.0000  \n",
       " Mean   :  16914   Mean   : 46.87   Mean   : 1.572   Mean   : 0.1638  \n",
       " 3rd Qu.:  18250   3rd Qu.: 71.00   3rd Qu.: 2.000   3rd Qu.: 0.0000  \n",
       " Max.   :1207359   Max.   :119.00   Max.   :33.000   Max.   :13.0000  \n",
       "                   NA's   :62       NA's   :29       NA's   :29       \n",
       "    pub.rec       not.fully.paid  \n",
       " Min.   :0.0000   Min.   :0.0000  \n",
       " 1st Qu.:0.0000   1st Qu.:0.0000  \n",
       " Median :0.0000   Median :0.0000  \n",
       " Mean   :0.0621   Mean   :0.1601  \n",
       " 3rd Qu.:0.0000   3rd Qu.:0.0000  \n",
       " Max.   :5.0000   Max.   :1.0000  \n",
       " NA's   :29                       "
      ]
     },
     "execution_count": 5,
     "metadata": {},
     "output_type": "execute_result"
    }
   ],
   "source": [
    "summary(loans)"
   ]
  },
  {
   "cell_type": "code",
   "execution_count": 6,
   "metadata": {
    "collapsed": false
   },
   "outputs": [
    {
     "ename": "ERROR",
     "evalue": "Error in library(mice): there is no package called ‘mice’\n",
     "output_type": "error",
     "traceback": [
      "Error in library(mice): there is no package called ‘mice’\n"
     ]
    },
    {
     "ename": "ERROR",
     "evalue": "Error in eval(expr, envir, enclos): could not find function \"complete\"\n",
     "output_type": "error",
     "traceback": [
      "Error in eval(expr, envir, enclos): could not find function \"complete\"\n"
     ]
    },
    {
     "ename": "ERROR",
     "evalue": "Error in eval(expr, envir, enclos): object 'imputed' not found\n",
     "output_type": "error",
     "traceback": [
      "Error in eval(expr, envir, enclos): object 'imputed' not found\n"
     ]
    }
   ],
   "source": [
    "library(mice)\n",
    "\n",
    "set.seed(144)\n",
    "\n",
    "vars.for.imputation = setdiff(names(loans), \"not.fully.paid\")\n",
    "\n",
    "imputed = complete(mice(loans[vars.for.imputation]))\n",
    "\n",
    "loans[vars.for.imputation] = imputed"
   ]
  },
  {
   "cell_type": "code",
   "execution_count": 7,
   "metadata": {
    "collapsed": true
   },
   "outputs": [],
   "source": [
    "loans = read.csv('loans_imputed.csv')"
   ]
  },
  {
   "cell_type": "code",
   "execution_count": 8,
   "metadata": {
    "collapsed": true
   },
   "outputs": [],
   "source": [
    "set.seed(144)\n",
    " library(caTools)\n",
    "\n",
    "split = sample.split(loans$not.fully.paid, SplitRatio = 0.7)\n",
    "\n",
    "train = subset(loans, split == TRUE)\n",
    "\n",
    "test = subset(loans, split == FALSE)"
   ]
  },
  {
   "cell_type": "code",
   "execution_count": 9,
   "metadata": {
    "collapsed": true
   },
   "outputs": [],
   "source": [
    "loansLog1 = glm(not.fully.paid ~ ., data=train, family=binomial)"
   ]
  },
  {
   "cell_type": "code",
   "execution_count": 10,
   "metadata": {
    "collapsed": false
   },
   "outputs": [
    {
     "data": {
      "text/plain": [
       "\n",
       "Call:\n",
       "glm(formula = not.fully.paid ~ ., family = binomial, data = train)\n",
       "\n",
       "Deviance Residuals: \n",
       "    Min       1Q   Median       3Q      Max  \n",
       "-2.2049  -0.6205  -0.4951  -0.3606   2.6397  \n",
       "\n",
       "Coefficients:\n",
       "                            Estimate Std. Error z value Pr(>|z|)    \n",
       "(Intercept)                9.187e+00  1.554e+00   5.910 3.42e-09 ***\n",
       "credit.policy             -3.368e-01  1.011e-01  -3.332 0.000861 ***\n",
       "purposecredit_card        -6.141e-01  1.344e-01  -4.568 4.93e-06 ***\n",
       "purposedebt_consolidation -3.212e-01  9.183e-02  -3.498 0.000469 ***\n",
       "purposeeducational         1.347e-01  1.753e-01   0.768 0.442201    \n",
       "purposehome_improvement    1.727e-01  1.480e-01   1.167 0.243135    \n",
       "purposemajor_purchase     -4.830e-01  2.009e-01  -2.404 0.016203 *  \n",
       "purposesmall_business      4.120e-01  1.419e-01   2.905 0.003678 ** \n",
       "int.rate                   6.110e-01  2.085e+00   0.293 0.769446    \n",
       "installment                1.275e-03  2.092e-04   6.093 1.11e-09 ***\n",
       "log.annual.inc            -4.337e-01  7.148e-02  -6.067 1.30e-09 ***\n",
       "dti                        4.638e-03  5.502e-03   0.843 0.399288    \n",
       "fico                      -9.317e-03  1.710e-03  -5.448 5.08e-08 ***\n",
       "days.with.cr.line          2.371e-06  1.588e-05   0.149 0.881343    \n",
       "revol.bal                  3.085e-06  1.168e-06   2.641 0.008273 ** \n",
       "revol.util                 1.839e-03  1.535e-03   1.199 0.230722    \n",
       "inq.last.6mths             8.437e-02  1.600e-02   5.275 1.33e-07 ***\n",
       "delinq.2yrs               -8.320e-02  6.561e-02  -1.268 0.204762    \n",
       "pub.rec                    3.300e-01  1.139e-01   2.898 0.003756 ** \n",
       "---\n",
       "Signif. codes:  0 ‘***’ 0.001 ‘**’ 0.01 ‘*’ 0.05 ‘.’ 0.1 ‘ ’ 1\n",
       "\n",
       "(Dispersion parameter for binomial family taken to be 1)\n",
       "\n",
       "    Null deviance: 5896.6  on 6704  degrees of freedom\n",
       "Residual deviance: 5485.2  on 6686  degrees of freedom\n",
       "AIC: 5523.2\n",
       "\n",
       "Number of Fisher Scoring iterations: 5\n"
      ]
     },
     "execution_count": 10,
     "metadata": {},
     "output_type": "execute_result"
    }
   ],
   "source": [
    "summary(loansLog1)"
   ]
  },
  {
   "cell_type": "code",
   "execution_count": 11,
   "metadata": {
    "collapsed": false
   },
   "outputs": [
    {
     "data": {
      "text/html": [
       "-0.09317"
      ],
      "text/latex": [
       "-0.09317"
      ],
      "text/markdown": [
       "-0.09317"
      ],
      "text/plain": [
       "[1] -0.09317"
      ]
     },
     "execution_count": 11,
     "metadata": {},
     "output_type": "execute_result"
    }
   ],
   "source": [
    "-9.317e-03*10"
   ]
  },
  {
   "cell_type": "code",
   "execution_count": 12,
   "metadata": {
    "collapsed": false
   },
   "outputs": [
    {
     "data": {
      "text/html": [
       "1.0976483196223"
      ],
      "text/latex": [
       "1.0976483196223"
      ],
      "text/markdown": [
       "1.0976483196223"
      ],
      "text/plain": [
       "[1] 1.097648"
      ]
     },
     "execution_count": 12,
     "metadata": {},
     "output_type": "execute_result"
    }
   ],
   "source": [
    "exp(0.09317)"
   ]
  },
  {
   "cell_type": "code",
   "execution_count": 13,
   "metadata": {
    "collapsed": true
   },
   "outputs": [],
   "source": [
    "predictTest = predict(loansLog1, type=\"response\", newdata=test)"
   ]
  },
  {
   "cell_type": "code",
   "execution_count": 14,
   "metadata": {
    "collapsed": true
   },
   "outputs": [],
   "source": [
    "test$predicted.risk = predictTest"
   ]
  },
  {
   "cell_type": "code",
   "execution_count": 15,
   "metadata": {
    "collapsed": false
   },
   "outputs": [
    {
     "data": {
      "text/plain": [
       "   \n",
       "    FALSE TRUE\n",
       "  0  2400   13\n",
       "  1   457    3"
      ]
     },
     "execution_count": 15,
     "metadata": {},
     "output_type": "execute_result"
    }
   ],
   "source": [
    "table(test$not.fully.paid, predictTest > 0.5)"
   ]
  },
  {
   "cell_type": "code",
   "execution_count": 16,
   "metadata": {
    "collapsed": false
   },
   "outputs": [
    {
     "data": {
      "text/html": [
       "0.836407935955447"
      ],
      "text/latex": [
       "0.836407935955447"
      ],
      "text/markdown": [
       "0.836407935955447"
      ],
      "text/plain": [
       "[1] 0.8364079"
      ]
     },
     "execution_count": 16,
     "metadata": {},
     "output_type": "execute_result"
    }
   ],
   "source": [
    "# accuracy\n",
    "(2400 + 3) / (2400 + 3 + 13 + 457)"
   ]
  },
  {
   "cell_type": "code",
   "execution_count": 17,
   "metadata": {
    "collapsed": false
   },
   "outputs": [
    {
     "data": {
      "text/html": [
       "0.839888618169161"
      ],
      "text/latex": [
       "0.839888618169161"
      ],
      "text/markdown": [
       "0.839888618169161"
      ],
      "text/plain": [
       "[1] 0.8398886"
      ]
     },
     "execution_count": 17,
     "metadata": {},
     "output_type": "execute_result"
    }
   ],
   "source": [
    "# accuracy baseline\n",
    "(2400 + 13) /  (2400 + 3 + 13 + 457)"
   ]
  },
  {
   "cell_type": "code",
   "execution_count": 18,
   "metadata": {
    "collapsed": false,
    "scrolled": true
   },
   "outputs": [
    {
     "name": "stderr",
     "output_type": "stream",
     "text": [
      "Loading required package: gplots\n",
      "\n",
      "Attaching package: ‘gplots’\n",
      "\n",
      "The following object is masked from ‘package:stats’:\n",
      "\n",
      "    lowess\n",
      "\n"
     ]
    },
    {
     "data": {
      "text/html": [
       "0.672099497288242"
      ],
      "text/latex": [
       "0.672099497288242"
      ],
      "text/markdown": [
       "0.672099497288242"
      ],
      "text/plain": [
       "[1] 0.6720995"
      ]
     },
     "execution_count": 18,
     "metadata": {},
     "output_type": "execute_result"
    }
   ],
   "source": [
    "library(ROCR)\n",
    "ROCRpred = prediction(predictTest, test$not.fully.paid)\n",
    "as.numeric(performance(ROCRpred, \"auc\")@y.values)"
   ]
  },
  {
   "cell_type": "code",
   "execution_count": 19,
   "metadata": {
    "collapsed": true
   },
   "outputs": [],
   "source": [
    "loansLog2 = glm(not.fully.paid ~ int.rate, data=train, family=binomial)"
   ]
  },
  {
   "cell_type": "code",
   "execution_count": 20,
   "metadata": {
    "collapsed": false
   },
   "outputs": [
    {
     "data": {
      "text/plain": [
       "\n",
       "Call:\n",
       "glm(formula = not.fully.paid ~ int.rate, family = binomial, data = train)\n",
       "\n",
       "Deviance Residuals: \n",
       "    Min       1Q   Median       3Q      Max  \n",
       "-1.0547  -0.6271  -0.5442  -0.4361   2.2914  \n",
       "\n",
       "Coefficients:\n",
       "            Estimate Std. Error z value Pr(>|z|)    \n",
       "(Intercept)  -3.6726     0.1688  -21.76   <2e-16 ***\n",
       "int.rate     15.9214     1.2702   12.54   <2e-16 ***\n",
       "---\n",
       "Signif. codes:  0 ‘***’ 0.001 ‘**’ 0.01 ‘*’ 0.05 ‘.’ 0.1 ‘ ’ 1\n",
       "\n",
       "(Dispersion parameter for binomial family taken to be 1)\n",
       "\n",
       "    Null deviance: 5896.6  on 6704  degrees of freedom\n",
       "Residual deviance: 5734.8  on 6703  degrees of freedom\n",
       "AIC: 5738.8\n",
       "\n",
       "Number of Fisher Scoring iterations: 4\n"
      ]
     },
     "execution_count": 20,
     "metadata": {},
     "output_type": "execute_result"
    }
   ],
   "source": [
    "summary(loansLog2)"
   ]
  },
  {
   "cell_type": "code",
   "execution_count": 21,
   "metadata": {
    "collapsed": true
   },
   "outputs": [],
   "source": [
    "predictTest2 = predict(loansLog2, type=\"response\", newdata=test)"
   ]
  },
  {
   "cell_type": "code",
   "execution_count": 22,
   "metadata": {
    "collapsed": false
   },
   "outputs": [
    {
     "data": {
      "text/plain": [
       "   Min. 1st Qu.  Median    Mean 3rd Qu.    Max. \n",
       "0.06196 0.11550 0.15080 0.15960 0.18930 0.42660 "
      ]
     },
     "execution_count": 22,
     "metadata": {},
     "output_type": "execute_result"
    }
   ],
   "source": [
    "summary(predictTest2)"
   ]
  },
  {
   "cell_type": "code",
   "execution_count": 23,
   "metadata": {
    "collapsed": false
   },
   "outputs": [
    {
     "data": {
      "text/plain": [
       "   \n",
       "    FALSE\n",
       "  0  2413\n",
       "  1   460"
      ]
     },
     "execution_count": 23,
     "metadata": {},
     "output_type": "execute_result"
    }
   ],
   "source": [
    "table(test$not.fully.paid, predictTest2 > 0.5)"
   ]
  },
  {
   "cell_type": "code",
   "execution_count": 24,
   "metadata": {
    "collapsed": false
   },
   "outputs": [
    {
     "data": {
      "text/html": [
       "2873"
      ],
      "text/latex": [
       "2873"
      ],
      "text/markdown": [
       "2873"
      ],
      "text/plain": [
       "[1] 2873"
      ]
     },
     "execution_count": 24,
     "metadata": {},
     "output_type": "execute_result"
    }
   ],
   "source": [
    "2413+460"
   ]
  },
  {
   "cell_type": "code",
   "execution_count": 25,
   "metadata": {
    "collapsed": false
   },
   "outputs": [
    {
     "data": {
      "text/html": [
       "0.623908088434026"
      ],
      "text/latex": [
       "0.623908088434026"
      ],
      "text/markdown": [
       "0.623908088434026"
      ],
      "text/plain": [
       "[1] 0.6239081"
      ]
     },
     "execution_count": 25,
     "metadata": {},
     "output_type": "execute_result"
    }
   ],
   "source": [
    "ROCRpred2 = prediction(predictTest2, test$not.fully.paid)\n",
    "as.numeric(performance(ROCRpred2, \"auc\")@y.values)"
   ]
  },
  {
   "cell_type": "code",
   "execution_count": 26,
   "metadata": {
    "collapsed": false
   },
   "outputs": [
    {
     "data": {
      "text/html": [
       "11.9721736312181"
      ],
      "text/latex": [
       "11.9721736312181"
      ],
      "text/markdown": [
       "11.9721736312181"
      ],
      "text/plain": [
       "[1] 11.97217"
      ]
     },
     "execution_count": 26,
     "metadata": {},
     "output_type": "execute_result"
    }
   ],
   "source": [
    "10*exp(0.06*3)"
   ]
  },
  {
   "cell_type": "code",
   "execution_count": 31,
   "metadata": {
    "collapsed": true
   },
   "outputs": [],
   "source": [
    "test$profit = 1*exp(test$int.rate*3) - 1\n",
    "\n",
    "test$profit[test$not.fully.paid == 1] = -1"
   ]
  },
  {
   "cell_type": "code",
   "execution_count": 30,
   "metadata": {
    "collapsed": false
   },
   "outputs": [
    {
     "data": {
      "text/plain": [
       "   Min. 1st Qu.  Median    Mean 3rd Qu.    Max. \n",
       " -1.000   2.858   4.111   3.535   4.980   8.895 "
      ]
     },
     "execution_count": 30,
     "metadata": {},
     "output_type": "execute_result"
    }
   ],
   "source": [
    "summary(test$profit)"
   ]
  },
  {
   "cell_type": "code",
   "execution_count": 32,
   "metadata": {
    "collapsed": true
   },
   "outputs": [],
   "source": [
    "test15 = subset(test, int.rate >= 0.15)"
   ]
  },
  {
   "cell_type": "code",
   "execution_count": 33,
   "metadata": {
    "collapsed": false
   },
   "outputs": [
    {
     "data": {
      "text/plain": [
       "   Min. 1st Qu.  Median    Mean 3rd Qu.    Max. \n",
       "-1.0000 -1.0000  0.5992  0.2251  0.6380  0.8895 "
      ]
     },
     "execution_count": 33,
     "metadata": {},
     "output_type": "execute_result"
    }
   ],
   "source": [
    "summary(test15$profit)"
   ]
  },
  {
   "cell_type": "code",
   "execution_count": 34,
   "metadata": {
    "collapsed": false
   },
   "outputs": [
    {
     "data": {
      "text/plain": [
       "\n",
       "  0   1 \n",
       "327 110 "
      ]
     },
     "execution_count": 34,
     "metadata": {},
     "output_type": "execute_result"
    }
   ],
   "source": [
    "table(test15$not.fully.paid)"
   ]
  },
  {
   "cell_type": "code",
   "execution_count": 35,
   "metadata": {
    "collapsed": false
   },
   "outputs": [
    {
     "data": {
      "text/html": [
       "0.251716247139588"
      ],
      "text/latex": [
       "0.251716247139588"
      ],
      "text/markdown": [
       "0.251716247139588"
      ],
      "text/plain": [
       "[1] 0.2517162"
      ]
     },
     "execution_count": 35,
     "metadata": {},
     "output_type": "execute_result"
    }
   ],
   "source": [
    "110 / (110+327)"
   ]
  },
  {
   "cell_type": "code",
   "execution_count": 36,
   "metadata": {
    "collapsed": true
   },
   "outputs": [],
   "source": [
    "cutoff = sort(test15$predicted.risk, decreasing=FALSE)[100]"
   ]
  },
  {
   "cell_type": "code",
   "execution_count": 37,
   "metadata": {
    "collapsed": false
   },
   "outputs": [
    {
     "data": {
      "text/html": [
       "0.17633052990285"
      ],
      "text/latex": [
       "0.17633052990285"
      ],
      "text/markdown": [
       "0.17633052990285"
      ],
      "text/plain": [
       "[1] 0.1763305"
      ]
     },
     "execution_count": 37,
     "metadata": {},
     "output_type": "execute_result"
    }
   ],
   "source": [
    "cutoff"
   ]
  },
  {
   "cell_type": "code",
   "execution_count": 38,
   "metadata": {
    "collapsed": true
   },
   "outputs": [],
   "source": [
    "test15lowrisk = subset(test15, predicted.risk <= 0.17633052990285)"
   ]
  },
  {
   "cell_type": "code",
   "execution_count": 39,
   "metadata": {
    "collapsed": false
   },
   "outputs": [
    {
     "name": "stdout",
     "output_type": "stream",
     "text": [
      "'data.frame':\t100 obs. of  16 variables:\n",
      " $ credit.policy    : int  1 1 1 1 1 1 1 1 1 1 ...\n",
      " $ purpose          : Factor w/ 7 levels \"all_other\",\"credit_card\",..: 7 2 3 1 3 5 2 3 2 3 ...\n",
      " $ int.rate         : num  0.15 0.153 0.158 0.159 0.156 ...\n",
      " $ installment      : num  225 444 420 246 245 ...\n",
      " $ log.annual.inc   : num  12.3 11 11.5 11.5 10.8 ...\n",
      " $ dti              : num  6.45 19.52 18.55 24.19 2.72 ...\n",
      " $ fico             : int  677 667 667 667 672 702 667 672 662 682 ...\n",
      " $ days.with.cr.line: num  6240 2701 4560 5376 3010 ...\n",
      " $ revol.bal        : int  56411 33074 34841 590 3273 4980 15977 16473 22783 87502 ...\n",
      " $ revol.util       : num  75.3 68.8 89.6 84.3 69.6 55.3 83.6 94.1 93.7 96.4 ...\n",
      " $ inq.last.6mths   : int  0 2 0 0 1 1 0 2 3 0 ...\n",
      " $ delinq.2yrs      : int  0 0 0 0 0 0 0 2 1 1 ...\n",
      " $ pub.rec          : int  0 0 0 0 0 0 0 0 0 0 ...\n",
      " $ not.fully.paid   : int  1 0 0 0 1 0 0 0 0 0 ...\n",
      " $ predicted.risk   : num  0.164 0.169 0.158 0.162 0.147 ...\n",
      " $ profit           : num  -1 0.584 0.604 0.61 -1 ...\n"
     ]
    }
   ],
   "source": [
    "str(test15lowrisk)"
   ]
  },
  {
   "cell_type": "code",
   "execution_count": 40,
   "metadata": {
    "collapsed": false
   },
   "outputs": [
    {
     "data": {
      "text/html": [
       "31.2782492792533"
      ],
      "text/latex": [
       "31.2782492792533"
      ],
      "text/markdown": [
       "31.2782492792533"
      ],
      "text/plain": [
       "[1] 31.27825"
      ]
     },
     "execution_count": 40,
     "metadata": {},
     "output_type": "execute_result"
    }
   ],
   "source": [
    "sum(test15lowrisk$profit)"
   ]
  },
  {
   "cell_type": "code",
   "execution_count": 41,
   "metadata": {
    "collapsed": false
   },
   "outputs": [
    {
     "data": {
      "text/plain": [
       "\n",
       " 0  1 \n",
       "81 19 "
      ]
     },
     "execution_count": 41,
     "metadata": {},
     "output_type": "execute_result"
    }
   ],
   "source": [
    "table(test15lowrisk$not.fully.paid )"
   ]
  },
  {
   "cell_type": "code",
   "execution_count": null,
   "metadata": {
    "collapsed": true
   },
   "outputs": [],
   "source": []
  }
 ],
 "metadata": {
  "kernelspec": {
   "display_name": "R",
   "language": "R",
   "name": "ir"
  },
  "language_info": {
   "codemirror_mode": "r",
   "file_extension": ".r",
   "mimetype": "text/x-r-source",
   "name": "R",
   "pygments_lexer": "r",
   "version": "3.2.2"
  }
 },
 "nbformat": 4,
 "nbformat_minor": 0
}
