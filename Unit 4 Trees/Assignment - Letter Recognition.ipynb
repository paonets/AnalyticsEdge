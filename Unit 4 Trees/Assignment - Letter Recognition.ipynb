{
 "cells": [
  {
   "cell_type": "code",
   "execution_count": 1,
   "metadata": {
    "collapsed": true
   },
   "outputs": [],
   "source": [
    "letters = read.csv('letters_ABPR.csv')"
   ]
  },
  {
   "cell_type": "code",
   "execution_count": 2,
   "metadata": {
    "collapsed": true
   },
   "outputs": [],
   "source": [
    "letters$isB = as.factor(letters$letter == \"B\")"
   ]
  },
  {
   "cell_type": "code",
   "execution_count": 3,
   "metadata": {
    "collapsed": false
   },
   "outputs": [
    {
     "data": {
      "text/plain": [
       "\n",
       "   FALSE     TRUE \n",
       "0.754172 0.245828 "
      ]
     },
     "execution_count": 3,
     "metadata": {},
     "output_type": "execute_result"
    }
   ],
   "source": [
    "table(letters$isB)/nrow(letters)"
   ]
  },
  {
   "cell_type": "code",
   "execution_count": 5,
   "metadata": {
    "collapsed": false
   },
   "outputs": [],
   "source": [
    "library(caTools)\n",
    "# Randomly split the data into training and testing sets\n",
    "set.seed(1000)\n",
    "split = sample.split(letters$isB, SplitRatio = 0.50)\n",
    "\n",
    "# Split up the data using subset\n",
    "train = subset(letters, split==TRUE)\n",
    "test = subset(letters, split==FALSE)"
   ]
  },
  {
   "cell_type": "code",
   "execution_count": 7,
   "metadata": {
    "collapsed": false
   },
   "outputs": [],
   "source": [
    "library(rpart)\n",
    "library(rpart.plot)\n",
    "CARTb = rpart(isB ~ . - letter, data=train, method=\"class\")"
   ]
  },
  {
   "cell_type": "code",
   "execution_count": 10,
   "metadata": {
    "collapsed": false
   },
   "outputs": [
    {
     "data": {
      "text/plain": [
       "       PredictTest\n",
       "        FALSE TRUE\n",
       "  FALSE  1118   57\n",
       "  TRUE     43  340"
      ]
     },
     "execution_count": 10,
     "metadata": {},
     "output_type": "execute_result"
    }
   ],
   "source": [
    "# Make predictions\n",
    "PredictTest = predict(CARTb, newdata = test, type = \"class\")\n",
    "\n",
    "table(test$isB, PredictTest)"
   ]
  },
  {
   "cell_type": "code",
   "execution_count": 11,
   "metadata": {
    "collapsed": false
   },
   "outputs": [
    {
     "data": {
      "text/html": [
       "0.93581514762516"
      ],
      "text/latex": [
       "0.93581514762516"
      ],
      "text/markdown": [
       "0.93581514762516"
      ],
      "text/plain": [
       "[1] 0.9358151"
      ]
     },
     "execution_count": 11,
     "metadata": {},
     "output_type": "execute_result"
    }
   ],
   "source": [
    "(1118+340)/nrow(test)"
   ]
  },
  {
   "cell_type": "code",
   "execution_count": 12,
   "metadata": {
    "collapsed": false
   },
   "outputs": [
    {
     "name": "stderr",
     "output_type": "stream",
     "text": [
      "randomForest 4.6-12\n",
      "Type rfNews() to see new features/changes/bug fixes.\n"
     ]
    }
   ],
   "source": [
    "set.seed(1000)\n",
    "library(randomForest)\n",
    "forestB = randomForest(isB ~ . -letter, data = train)"
   ]
  },
  {
   "cell_type": "code",
   "execution_count": 13,
   "metadata": {
    "collapsed": false
   },
   "outputs": [
    {
     "data": {
      "text/plain": [
       "       PredictTest2\n",
       "        FALSE TRUE\n",
       "  FALSE  1165   10\n",
       "  TRUE      9  374"
      ]
     },
     "execution_count": 13,
     "metadata": {},
     "output_type": "execute_result"
    }
   ],
   "source": [
    "# Make predictions\n",
    "PredictTest2 = predict(forestB, newdata = test, type = \"class\")\n",
    "\n",
    "table(test$isB, PredictTest2)"
   ]
  },
  {
   "cell_type": "code",
   "execution_count": 14,
   "metadata": {
    "collapsed": false
   },
   "outputs": [
    {
     "data": {
      "text/html": [
       "0.98780487804878"
      ],
      "text/latex": [
       "0.98780487804878"
      ],
      "text/markdown": [
       "0.98780487804878"
      ],
      "text/plain": [
       "[1] 0.9878049"
      ]
     },
     "execution_count": 14,
     "metadata": {},
     "output_type": "execute_result"
    }
   ],
   "source": [
    "(1165+374)/nrow(test)"
   ]
  },
  {
   "cell_type": "code",
   "execution_count": 15,
   "metadata": {
    "collapsed": true
   },
   "outputs": [],
   "source": [
    "letters$letter = as.factor( letters$letter )"
   ]
  },
  {
   "cell_type": "code",
   "execution_count": 16,
   "metadata": {
    "collapsed": true
   },
   "outputs": [],
   "source": [
    "set.seed(2000)\n",
    "split = sample.split(letters$letter, SplitRatio = 0.50)\n",
    "\n",
    "# Split up the data using subset\n",
    "train = subset(letters, split==TRUE)\n",
    "test = subset(letters, split==FALSE)"
   ]
  },
  {
   "cell_type": "code",
   "execution_count": 17,
   "metadata": {
    "collapsed": false
   },
   "outputs": [
    {
     "data": {
      "text/plain": [
       "\n",
       "  A   B   P   R \n",
       "395 383 401 379 "
      ]
     },
     "execution_count": 17,
     "metadata": {},
     "output_type": "execute_result"
    }
   ],
   "source": [
    "table(test$letter)"
   ]
  },
  {
   "cell_type": "code",
   "execution_count": 18,
   "metadata": {
    "collapsed": false
   },
   "outputs": [
    {
     "data": {
      "text/html": [
       "0.257381258023107"
      ],
      "text/latex": [
       "0.257381258023107"
      ],
      "text/markdown": [
       "0.257381258023107"
      ],
      "text/plain": [
       "[1] 0.2573813"
      ]
     },
     "execution_count": 18,
     "metadata": {},
     "output_type": "execute_result"
    }
   ],
   "source": [
    "401/nrow(test)"
   ]
  },
  {
   "cell_type": "code",
   "execution_count": 21,
   "metadata": {
    "collapsed": true
   },
   "outputs": [],
   "source": [
    "CARTletter = rpart(letter ~ . -isB, data=train, method=\"class\")"
   ]
  },
  {
   "cell_type": "code",
   "execution_count": 22,
   "metadata": {
    "collapsed": false
   },
   "outputs": [
    {
     "data": {
      "text/plain": [
       "   PredictTestCART\n",
       "      A   B   P   R\n",
       "  A 348   4   0  43\n",
       "  B   8 318  12  45\n",
       "  P   2  21 363  15\n",
       "  R  10  24   5 340"
      ]
     },
     "execution_count": 22,
     "metadata": {},
     "output_type": "execute_result"
    }
   ],
   "source": [
    "# Make predictions\n",
    "PredictTestCART = predict(CARTletter, newdata = test, type = \"class\")\n",
    "\n",
    "table(test$letter, PredictTestCART)"
   ]
  },
  {
   "cell_type": "code",
   "execution_count": 23,
   "metadata": {
    "collapsed": false
   },
   "outputs": [
    {
     "data": {
      "text/html": [
       "0.878690629011553"
      ],
      "text/latex": [
       "0.878690629011553"
      ],
      "text/markdown": [
       "0.878690629011553"
      ],
      "text/plain": [
       "[1] 0.8786906"
      ]
     },
     "execution_count": 23,
     "metadata": {},
     "output_type": "execute_result"
    }
   ],
   "source": [
    "(348 + 318 + 363+340)/nrow(test)"
   ]
  },
  {
   "cell_type": "code",
   "execution_count": 19,
   "metadata": {
    "collapsed": false
   },
   "outputs": [
    {
     "data": {
      "text/plain": [
       "   PredictTest3\n",
       "      A   B   P   R\n",
       "  A 388   0   5   2\n",
       "  B   0 379   1   3\n",
       "  P   0   6 394   1\n",
       "  R   1  10   1 367"
      ]
     },
     "execution_count": 19,
     "metadata": {},
     "output_type": "execute_result"
    }
   ],
   "source": [
    "\n",
    "forest = randomForest(letter ~ . -isB, data = train, method=\"class\")\n",
    "\n",
    "# Make predictions\n",
    "PredictTest3 = predict(forest, newdata = test, type = \"class\")\n",
    "\n",
    "table(test$letter, PredictTest3)"
   ]
  },
  {
   "cell_type": "code",
   "execution_count": 20,
   "metadata": {
    "collapsed": false
   },
   "outputs": [
    {
     "data": {
      "text/html": [
       "0.980744544287548"
      ],
      "text/latex": [
       "0.980744544287548"
      ],
      "text/markdown": [
       "0.980744544287548"
      ],
      "text/plain": [
       "[1] 0.9807445"
      ]
     },
     "execution_count": 20,
     "metadata": {},
     "output_type": "execute_result"
    }
   ],
   "source": [
    "(388 + 379 + 394 + 367)/ nrow(test)\n"
   ]
  },
  {
   "cell_type": "code",
   "execution_count": null,
   "metadata": {
    "collapsed": true
   },
   "outputs": [],
   "source": []
  }
 ],
 "metadata": {
  "kernelspec": {
   "display_name": "R",
   "language": "R",
   "name": "ir"
  },
  "language_info": {
   "codemirror_mode": "r",
   "file_extension": ".r",
   "mimetype": "text/x-r-source",
   "name": "R",
   "pygments_lexer": "r",
   "version": "3.2.2"
  }
 },
 "nbformat": 4,
 "nbformat_minor": 0
}
