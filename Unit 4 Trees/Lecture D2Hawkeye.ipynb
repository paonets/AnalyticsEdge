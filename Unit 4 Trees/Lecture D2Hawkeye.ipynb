{
 "cells": [
  {
   "cell_type": "code",
   "execution_count": 2,
   "metadata": {
    "collapsed": false
   },
   "outputs": [
    {
     "name": "stdout",
     "output_type": "stream",
     "text": [
      "'data.frame':\t458005 obs. of  16 variables:\n",
      " $ age              : int  85 59 67 52 67 68 75 70 67 67 ...\n",
      " $ alzheimers       : int  0 0 0 0 0 0 0 0 0 0 ...\n",
      " $ arthritis        : int  0 0 0 0 0 0 0 0 0 0 ...\n",
      " $ cancer           : int  0 0 0 0 0 0 0 0 0 0 ...\n",
      " $ copd             : int  0 0 0 0 0 0 0 0 0 0 ...\n",
      " $ depression       : int  0 0 0 0 0 0 0 0 0 0 ...\n",
      " $ diabetes         : int  0 0 0 0 0 0 0 0 0 0 ...\n",
      " $ heart.failure    : int  0 0 0 0 0 0 0 0 0 0 ...\n",
      " $ ihd              : int  0 0 0 0 0 0 0 0 0 0 ...\n",
      " $ kidney           : int  0 0 0 0 0 0 0 0 0 0 ...\n",
      " $ osteoporosis     : int  0 0 0 0 0 0 0 0 0 0 ...\n",
      " $ stroke           : int  0 0 0 0 0 0 0 0 0 0 ...\n",
      " $ reimbursement2008: int  0 0 0 0 0 0 0 0 0 0 ...\n",
      " $ bucket2008       : int  1 1 1 1 1 1 1 1 1 1 ...\n",
      " $ reimbursement2009: int  0 0 0 0 0 0 0 0 0 0 ...\n",
      " $ bucket2009       : int  1 1 1 1 1 1 1 1 1 1 ...\n"
     ]
    }
   ],
   "source": [
    "Claims = read.csv(\"ClaimsData.csv\")\n",
    "\n",
    "str(Claims)"
   ]
  },
  {
   "cell_type": "code",
   "execution_count": 2,
   "metadata": {
    "collapsed": false
   },
   "outputs": [
    {
     "data": {
      "text/plain": [
       "\n",
       "          1           2           3           4           5 \n",
       "0.671267781 0.190170413 0.089466272 0.043324855 0.005770679 "
      ]
     },
     "execution_count": 2,
     "metadata": {},
     "output_type": "execute_result"
    }
   ],
   "source": [
    "# Percentage of patients in each cost bucket\n",
    "table(Claims$bucket2009)/nrow(Claims)\n"
   ]
  },
  {
   "cell_type": "code",
   "execution_count": 4,
   "metadata": {
    "collapsed": true
   },
   "outputs": [],
   "source": [
    "# Split the data\n",
    "library(caTools)\n",
    "\n",
    "set.seed(88)"
   ]
  },
  {
   "cell_type": "code",
   "execution_count": 5,
   "metadata": {
    "collapsed": false
   },
   "outputs": [],
   "source": [
    "\n",
    "spl = sample.split(Claims$bucket2009, SplitRatio = 0.6)\n",
    "\n",
    "ClaimsTrain = subset(Claims, spl==TRUE)\n",
    "\n",
    "ClaimsTest = subset(Claims, spl==FALSE)"
   ]
  },
  {
   "cell_type": "code",
   "execution_count": 6,
   "metadata": {
    "collapsed": false
   },
   "outputs": [
    {
     "data": {
      "text/html": [
       "72.6377259345786"
      ],
      "text/latex": [
       "72.6377259345786"
      ],
      "text/markdown": [
       "72.6377259345786"
      ],
      "text/plain": [
       "[1] 72.63773"
      ]
     },
     "execution_count": 6,
     "metadata": {},
     "output_type": "execute_result"
    }
   ],
   "source": [
    "mean(ClaimsTrain$age)"
   ]
  },
  {
   "cell_type": "code",
   "execution_count": 7,
   "metadata": {
    "collapsed": false
   },
   "outputs": [
    {
     "data": {
      "text/plain": [
       "\n",
       "        0         1 \n",
       "0.6191017 0.3808983 "
      ]
     },
     "execution_count": 7,
     "metadata": {},
     "output_type": "execute_result"
    }
   ],
   "source": [
    "table(ClaimsTrain$diabetes)/nrow(ClaimsTrain)"
   ]
  },
  {
   "cell_type": "code",
   "execution_count": 8,
   "metadata": {
    "collapsed": true
   },
   "outputs": [],
   "source": [
    "# Load necessary libraries\n",
    "library(rpart)\n",
    "library(rpart.plot)\n"
   ]
  },
  {
   "cell_type": "code",
   "execution_count": 9,
   "metadata": {
    "collapsed": false
   },
   "outputs": [
    {
     "data": {
      "text/plain": [
       "   \n",
       "         1      2      3      4      5\n",
       "  1 110138   7787   3427   1452    174\n",
       "  2  16000  10721   4629   2931    559\n",
       "  3   7006   4629   2774   1621    360\n",
       "  4   2688   1943   1415   1539    352\n",
       "  5    293    191    160    309    104"
      ]
     },
     "execution_count": 9,
     "metadata": {},
     "output_type": "execute_result"
    }
   ],
   "source": [
    "# Baseline method\n",
    "table(ClaimsTest$bucket2009, ClaimsTest$bucket2008)\n"
   ]
  },
  {
   "cell_type": "code",
   "execution_count": 10,
   "metadata": {
    "collapsed": false
   },
   "outputs": [
    {
     "data": {
      "text/plain": [
       "\n",
       "     1      2      3      4      5 \n",
       "122978  34840  16390   7937   1057 "
      ]
     },
     "execution_count": 10,
     "metadata": {},
     "output_type": "execute_result"
    }
   ],
   "source": [
    "table(ClaimsTest$bucket2009)"
   ]
  },
  {
   "cell_type": "code",
   "execution_count": 11,
   "metadata": {
    "collapsed": false
   },
   "outputs": [
    {
     "data": {
      "text/html": [
       "0.6712699643017"
      ],
      "text/latex": [
       "0.6712699643017"
      ],
      "text/markdown": [
       "0.6712699643017"
      ],
      "text/plain": [
       "[1] 0.67127"
      ]
     },
     "execution_count": 11,
     "metadata": {},
     "output_type": "execute_result"
    }
   ],
   "source": [
    "122978/nrow(ClaimsTest)"
   ]
  },
  {
   "cell_type": "code",
   "execution_count": 16,
   "metadata": {
    "collapsed": true
   },
   "outputs": [],
   "source": [
    "PenaltyMatrix = matrix(c(0,1,2,3,4,2,0,1,2,3,4,2,0,1,2,6,4,2,0,1,8,6,4,2,0), byrow=TRUE, nrow=5)"
   ]
  },
  {
   "cell_type": "code",
   "execution_count": 13,
   "metadata": {
    "collapsed": false
   },
   "outputs": [
    {
     "data": {
      "text/html": [
       "<table>\n",
       "<tbody>\n",
       "\t<tr><td>0</td><td>1</td><td>2</td><td>3</td><td>4</td></tr>\n",
       "\t<tr><td>2</td><td>0</td><td>1</td><td>2</td><td>3</td></tr>\n",
       "\t<tr><td>4</td><td>2</td><td>0</td><td>1</td><td>2</td></tr>\n",
       "\t<tr><td>6</td><td>4</td><td>2</td><td>0</td><td>1</td></tr>\n",
       "\t<tr><td>8</td><td>6</td><td>4</td><td>2</td><td>0</td></tr>\n",
       "</tbody>\n",
       "</table>\n"
      ],
      "text/latex": [
       "\\begin{tabular}{lllll}\n",
       "\t 0 & 1 & 2 & 3 & 4\\\\\n",
       "\t 2 & 0 & 1 & 2 & 3\\\\\n",
       "\t 4 & 2 & 0 & 1 & 2\\\\\n",
       "\t 6 & 4 & 2 & 0 & 1\\\\\n",
       "\t 8 & 6 & 4 & 2 & 0\\\\\n",
       "\\end{tabular}\n"
      ],
      "text/markdown": [
       "1. 0\n",
       "2. 2\n",
       "3. 4\n",
       "4. 6\n",
       "5. 8\n",
       "6. 1\n",
       "7. 0\n",
       "8. 2\n",
       "9. 4\n",
       "10. 6\n",
       "11. 2\n",
       "12. 1\n",
       "13. 0\n",
       "14. 2\n",
       "15. 4\n",
       "16. 3\n",
       "17. 2\n",
       "18. 1\n",
       "19. 0\n",
       "20. 2\n",
       "21. 4\n",
       "22. 3\n",
       "23. 2\n",
       "24. 1\n",
       "25. 0\n",
       "\n",
       "\n"
      ],
      "text/plain": [
       "     [,1] [,2] [,3] [,4] [,5]\n",
       "[1,]    0    1    2    3    4\n",
       "[2,]    2    0    1    2    3\n",
       "[3,]    4    2    0    1    2\n",
       "[4,]    6    4    2    0    1\n",
       "[5,]    8    6    4    2    0"
      ]
     },
     "execution_count": 13,
     "metadata": {},
     "output_type": "execute_result"
    }
   ],
   "source": [
    "PenaltyMatrix"
   ]
  },
  {
   "cell_type": "code",
   "execution_count": 12,
   "metadata": {
    "collapsed": false
   },
   "outputs": [
    {
     "data": {
      "text/html": [
       "1.04430082641019"
      ],
      "text/latex": [
       "1.04430082641019"
      ],
      "text/markdown": [
       "1.04430082641019"
      ],
      "text/plain": [
       "[1] 1.044301"
      ]
     },
     "execution_count": 12,
     "metadata": {},
     "output_type": "execute_result"
    }
   ],
   "source": [
    "(2*34840  + 4 * 16390 + 6 * 7937 + 8* 1057) /nrow(ClaimsTest) "
   ]
  },
  {
   "cell_type": "code",
   "execution_count": 13,
   "metadata": {
    "collapsed": true
   },
   "outputs": [],
   "source": [
    "ClaimsTree = rpart(bucket2009 ~ age + alzheimers + arthritis + cancer + copd + depression + diabetes + heart.failure + ihd + kidney + osteoporosis + stroke + bucket2008 + reimbursement2008, data=ClaimsTrain, method=\"class\", cp=0.00005)\n"
   ]
  },
  {
   "cell_type": "code",
   "execution_count": 14,
   "metadata": {
    "collapsed": false
   },
   "outputs": [
    {
     "data": {
      "text/plain": [
       "   PredictTest\n",
       "         1      2      3      4      5\n",
       "  1 114141   8610    124    103      0\n",
       "  2  18409  16102    187    142      0\n",
       "  3   8027   8146    118     99      0\n",
       "  4   3099   4584     53    201      0\n",
       "  5    351    657      4     45      0"
      ]
     },
     "execution_count": 14,
     "metadata": {},
     "output_type": "execute_result"
    }
   ],
   "source": [
    "# Make predictions\n",
    "PredictTest = predict(ClaimsTree, newdata = ClaimsTest, type = \"class\")\n",
    "\n",
    "table(ClaimsTest$bucket2009, PredictTest)\n"
   ]
  },
  {
   "cell_type": "code",
   "execution_count": 17,
   "metadata": {
    "collapsed": false
   },
   "outputs": [
    {
     "data": {
      "text/plain": [
       "   PredictTest\n",
       "        1     2     3     4     5\n",
       "  1     0  8610   248   309     0\n",
       "  2 36818     0   187   284     0\n",
       "  3 32108 16292     0    99     0\n",
       "  4 18594 18336   106     0     0\n",
       "  5  2808  3942    16    90     0"
      ]
     },
     "execution_count": 17,
     "metadata": {},
     "output_type": "execute_result"
    },
    {
     "data": {
      "text/html": [
       "0.757890197705265"
      ],
      "text/latex": [
       "0.757890197705265"
      ],
      "text/markdown": [
       "0.757890197705265"
      ],
      "text/plain": [
       "[1] 0.7578902"
      ]
     },
     "execution_count": 17,
     "metadata": {},
     "output_type": "execute_result"
    }
   ],
   "source": [
    "# Penalty Error\n",
    "as.matrix(table(ClaimsTest$bucket2009, PredictTest))*PenaltyMatrix\n",
    "\n",
    "sum(as.matrix(table(ClaimsTest$bucket2009, PredictTest))*PenaltyMatrix)/nrow(ClaimsTest)\n"
   ]
  },
  {
   "cell_type": "code",
   "execution_count": 18,
   "metadata": {
    "collapsed": true
   },
   "outputs": [],
   "source": [
    "# New CART model with loss matrix\n",
    "ClaimsTree = rpart(bucket2009 ~ age + alzheimers + arthritis + cancer + copd + depression + diabetes + heart.failure + ihd + kidney + osteoporosis + stroke + bucket2008 + reimbursement2008, data=ClaimsTrain, method=\"class\", cp=0.00005, parms=list(loss=PenaltyMatrix))"
   ]
  },
  {
   "cell_type": "code",
   "execution_count": null,
   "metadata": {
    "collapsed": true
   },
   "outputs": [],
   "source": []
  }
 ],
 "metadata": {
  "kernelspec": {
   "display_name": "R",
   "language": "R",
   "name": "ir"
  },
  "language_info": {
   "codemirror_mode": "r",
   "file_extension": ".r",
   "mimetype": "text/x-r-source",
   "name": "R",
   "pygments_lexer": "r",
   "version": "3.2.2"
  }
 },
 "nbformat": 4,
 "nbformat_minor": 0
}
