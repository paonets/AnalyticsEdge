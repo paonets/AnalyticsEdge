{
 "cells": [
  {
   "cell_type": "code",
   "execution_count": 1,
   "metadata": {
    "collapsed": true
   },
   "outputs": [],
   "source": [
    "wiki = read.csv(\"wiki.csv\", stringsAsFactors=FALSE)\n"
   ]
  },
  {
   "cell_type": "code",
   "execution_count": 2,
   "metadata": {
    "collapsed": true
   },
   "outputs": [],
   "source": [
    "wiki$Vandal = as.factor(wiki$Vandal)"
   ]
  },
  {
   "cell_type": "code",
   "execution_count": 3,
   "metadata": {
    "collapsed": false
   },
   "outputs": [
    {
     "data": {
      "text/plain": [
       "\n",
       "   0    1 \n",
       "2061 1815 "
      ]
     },
     "execution_count": 3,
     "metadata": {},
     "output_type": "execute_result"
    }
   ],
   "source": [
    "table(wiki$Vandal)"
   ]
  },
  {
   "cell_type": "code",
   "execution_count": 6,
   "metadata": {
    "collapsed": false
   },
   "outputs": [
    {
     "name": "stderr",
     "output_type": "stream",
     "text": [
      "Loading required package: NLP\n"
     ]
    }
   ],
   "source": [
    "library(tm)\n",
    "library(SnowballC)"
   ]
  },
  {
   "cell_type": "code",
   "execution_count": 7,
   "metadata": {
    "collapsed": false
   },
   "outputs": [
    {
     "data": {
      "text/html": [
       "174"
      ],
      "text/latex": [
       "174"
      ],
      "text/markdown": [
       "174"
      ],
      "text/plain": [
       "[1] 174"
      ]
     },
     "execution_count": 7,
     "metadata": {},
     "output_type": "execute_result"
    }
   ],
   "source": [
    "length(stopwords(\"english\"))"
   ]
  },
  {
   "cell_type": "code",
   "execution_count": 8,
   "metadata": {
    "collapsed": false
   },
   "outputs": [
    {
     "data": {
      "text/plain": [
       "<<DocumentTermMatrix (documents: 3876, terms: 6675)>>\n",
       "Non-/sparse entries: 15368/25856932\n",
       "Sparsity           : 100%\n",
       "Maximal term length: 784\n",
       "Weighting          : term frequency (tf)"
      ]
     },
     "execution_count": 8,
     "metadata": {},
     "output_type": "execute_result"
    }
   ],
   "source": [
    "# Create corpus\n",
    "corpusAdded = Corpus(VectorSource(wiki$Added))\n",
    "#corpusAdded = tm_map(corpusAdded, tolower)\n",
    "#corpusAdded = tm_map(corpusAdded, PlainTextDocument)\n",
    "#corpusAdded = tm_map(corpusAdded, removePunctuation)\n",
    "corpusAdded = tm_map(corpusAdded, removeWords, stopwords(\"english\"))\n",
    "corpusAdded = tm_map(corpusAdded, stemDocument)\n",
    "\n",
    "\n",
    "dtmAdded = DocumentTermMatrix(corpusAdded)\n",
    "dtmAdded"
   ]
  },
  {
   "cell_type": "code",
   "execution_count": 16,
   "metadata": {
    "collapsed": false
   },
   "outputs": [
    {
     "data": {
      "text/plain": [
       "<<DocumentTermMatrix (documents: 3876, terms: 166)>>\n",
       "Non-/sparse entries: 2681/640735\n",
       "Sparsity           : 100%\n",
       "Maximal term length: 28\n",
       "Weighting          : term frequency (tf)"
      ]
     },
     "execution_count": 16,
     "metadata": {},
     "output_type": "execute_result"
    }
   ],
   "source": [
    "# Remove sparse terms\n",
    "sparseAdded = removeSparseTerms(dtmAdded, 0.997)\n",
    "sparseAdded"
   ]
  },
  {
   "cell_type": "code",
   "execution_count": 18,
   "metadata": {
    "collapsed": true
   },
   "outputs": [],
   "source": [
    "# Convert to a data frame\n",
    "wordsAdded = as.data.frame(as.matrix(sparseAdded))\n",
    "\n",
    "# Make all variable names R-friendly\n",
    "colnames(wordsAdded) = paste(\"A\",colnames(wordsAdded))\n",
    "\n"
   ]
  },
  {
   "cell_type": "code",
   "execution_count": 20,
   "metadata": {
    "collapsed": false
   },
   "outputs": [],
   "source": [
    "corpusRemoved = Corpus(VectorSource(wiki$Removed))\n",
    "corpusRemoved = tm_map(corpusRemoved, removeWords, stopwords(\"english\"))\n",
    "corpusRemoved = tm_map(corpusRemoved, stemDocument)\n",
    "dtmRemoved = DocumentTermMatrix(corpusRemoved)\n",
    "sparseRemoved = removeSparseTerms(dtmRemoved, 0.997)\n",
    "wordsRemoved = as.data.frame(as.matrix(sparseRemoved))\n",
    "colnames(wordsRemoved) = paste(\"R\",colnames(wordsRemoved))\n"
   ]
  },
  {
   "cell_type": "code",
   "execution_count": 22,
   "metadata": {
    "collapsed": false
   },
   "outputs": [
    {
     "name": "stdout",
     "output_type": "stream",
     "text": [
      "'data.frame':\t3876 obs. of  162 variables:\n",
      " $ R 2000000                     : num  0 0 0 0 0 0 0 0 0 0 ...\n",
      " $ R 40000                       : num  0 0 0 0 0 0 0 0 0 0 ...\n",
      " $ R accord                      : num  0 0 0 0 0 0 0 0 0 0 ...\n",
      " $ R actual                      : num  0 0 0 0 0 0 0 0 0 0 ...\n",
      " $ R ago                         : num  0 0 0 0 0 0 0 0 0 0 ...\n",
      " $ R agre                        : num  0 0 0 0 0 0 0 0 0 0 ...\n",
      " $ R analog                      : num  0 0 0 0 0 0 0 0 0 0 ...\n",
      " $ R appar                       : num  0 0 0 0 0 0 0 0 0 0 ...\n",
      " $ R arbitrari                   : num  0 0 0 0 0 0 0 0 0 0 ...\n",
      " $ R believ                      : num  0 0 0 0 0 0 0 0 0 0 ...\n",
      " $ R bigger                      : num  0 0 0 0 0 0 0 0 0 0 ...\n",
      " $ R biolog                      : num  0 0 0 0 0 0 0 0 0 0 ...\n",
      " $ R biologyanalog               : num  0 0 0 0 0 0 0 0 0 0 ...\n",
      " $ R bodi                        : num  0 0 0 1 0 0 0 0 0 0 ...\n",
      " $ R call                        : num  0 0 0 1 0 0 0 0 0 0 ...\n",
      " $ R care                        : num  0 0 0 0 0 0 0 0 0 0 ...\n",
      " $ R clear                       : num  0 0 0 0 0 0 0 0 0 0 ...\n",
      " $ R close                       : num  0 0 0 0 0 0 0 0 0 0 ...\n",
      " $ R combin                      : num  0 0 0 0 0 0 0 0 0 0 ...\n",
      " $ R communic                    : num  0 0 0 0 0 0 0 0 0 0 ...\n",
      " $ R communiti                   : num  0 0 0 0 0 0 0 0 0 0 ...\n",
      " $ R compar                      : num  0 0 0 0 0 0 0 0 0 0 ...\n",
      " $ R complet                     : num  0 0 0 1 0 0 0 0 0 0 ...\n",
      " $ R concept                     : num  0 0 0 1 0 0 0 0 0 0 ...\n",
      " $ R contact                     : num  0 0 0 0 0 0 0 0 0 0 ...\n",
      " $ R contain                     : num  0 0 0 0 0 0 0 0 0 0 ...\n",
      " $ R correl                      : num  0 0 0 0 0 0 0 0 0 0 ...\n",
      " $ R cours                       : num  0 0 0 0 0 0 0 0 0 0 ...\n",
      " $ R creat                       : num  0 0 0 1 0 0 0 0 0 0 ...\n",
      " $ R cromagnon                   : num  0 0 0 0 0 0 0 0 0 0 ...\n",
      " $ R defin                       : num  0 0 0 0 0 0 0 0 0 0 ...\n",
      " $ R deriv                       : num  0 0 0 0 0 0 0 0 0 0 ...\n",
      " $ R develop                     : num  0 0 0 1 0 0 0 0 0 0 ...\n",
      " $ R differ                      : num  0 0 0 1 0 0 0 0 0 0 ...\n",
      " $ R direct                      : num  0 0 0 0 0 0 0 0 0 0 ...\n",
      " $ R discuss                     : num  0 0 0 0 0 0 0 0 0 0 ...\n",
      " $ R distinct                    : num  0 0 0 0 0 0 0 0 0 0 ...\n",
      " $ R dutch                       : num  0 0 0 0 0 0 0 0 0 0 ...\n",
      " $ R easytolearn                 : num  0 0 0 0 0 0 0 0 0 0 ...\n",
      " $ R estim                       : num  0 0 0 0 0 0 0 0 0 0 ...\n",
      " $ R exampl                      : num  0 0 0 0 0 0 0 0 0 0 ...\n",
      " $ R experiment                  : num  0 0 0 0 0 0 0 0 0 0 ...\n",
      " $ R express                     : num  0 0 0 0 0 0 0 0 0 0 ...\n",
      " $ R famili                      : num  0 0 0 1 0 0 0 0 0 0 ...\n",
      " $ R fantasi                     : num  0 0 0 0 0 0 0 0 0 0 ...\n",
      " $ R featur                      : num  0 0 0 0 0 0 0 0 0 0 ...\n",
      " $ R first                       : num  0 0 1 0 0 0 0 0 0 0 ...\n",
      " $ R follow                      : num  0 0 0 0 0 0 0 0 0 0 ...\n",
      " $ R forc                        : num  0 0 0 0 0 0 0 0 0 0 ...\n",
      " $ R forti                       : num  0 0 0 0 0 0 0 0 0 0 ...\n",
      " $ R fuck                        : num  0 0 0 0 0 0 0 0 0 0 ...\n",
      " $ R general                     : num  0 0 0 0 0 0 0 0 0 0 ...\n",
      " $ R geograph                    : num  0 0 0 0 0 0 0 0 0 0 ...\n",
      " $ R german                      : num  0 0 0 0 0 0 0 0 0 0 ...\n",
      " $ R gestur                      : num  0 0 0 0 0 0 0 0 0 0 ...\n",
      " $ R get                         : num  0 0 0 0 0 0 0 0 0 0 ...\n",
      " $ R given                       : num  0 0 0 0 0 0 0 0 0 0 ...\n",
      " $ R govern                      : num  0 0 0 0 0 0 0 0 0 0 ...\n",
      " $ R group                       : num  0 0 0 1 0 0 0 0 0 0 ...\n",
      " $ R habili                      : num  0 0 0 0 0 0 0 0 0 0 ...\n",
      " $ R homo                        : num  0 0 0 0 0 0 0 0 0 0 ...\n",
      " $ R homolog                     : num  0 0 0 0 0 0 0 0 0 0 ...\n",
      " $ R icon                        : num  0 0 0 0 0 0 0 0 0 0 ...\n",
      " $ R idea                        : num  0 0 0 1 0 0 0 0 0 0 ...\n",
      " $ R ideolog                     : num  0 0 0 0 0 0 0 0 0 0 ...\n",
      " $ R imposs                      : num  0 0 0 0 0 0 0 0 0 0 ...\n",
      " $ R includ                      : num  0 0 0 1 0 0 0 0 0 0 ...\n",
      " $ R individu                    : num  0 0 0 0 0 0 0 0 0 0 ...\n",
      " $ R intern                      : num  0 0 0 0 0 0 0 0 0 0 ...\n",
      " $ R just                        : num  0 0 0 0 0 0 0 0 0 0 ...\n",
      " $ R know                        : num  0 0 0 0 0 0 0 0 0 0 ...\n",
      " $ R langesnada                  : num  0 0 0 0 0 0 0 0 0 0 ...\n",
      " $ R languageenglish             : num  0 0 0 0 0 0 0 0 0 0 ...\n",
      " $ R languagespanish             : num  0 0 0 0 0 0 0 0 0 0 ...\n",
      " $ R learn                       : num  0 0 0 0 0 0 0 0 0 0 ...\n",
      " $ R least                       : num  0 0 0 0 0 0 0 0 0 0 ...\n",
      " $ R linguist                    : num  0 0 0 1 0 0 0 0 0 0 ...\n",
      " $ R linguisticssent             : num  0 0 0 0 0 0 0 0 0 0 ...\n",
      " $ R literari                    : num  0 0 0 0 0 0 0 0 0 0 ...\n",
      " $ R logic                       : num  0 0 0 0 0 0 0 0 0 0 ...\n",
      " $ R mainlinguist                : num  0 0 0 0 0 0 0 0 0 0 ...\n",
      " $ R mainorigin                  : num  0 0 0 0 0 0 0 0 0 0 ...\n",
      " $ R make                        : num  0 0 0 1 0 0 0 0 0 0 ...\n",
      " $ R manipul                     : num  0 0 0 0 0 0 0 0 0 0 ...\n",
      " $ R map                         : num  0 0 0 0 0 0 0 0 0 0 ...\n",
      " $ R mean                        : num  0 0 0 0 0 0 0 0 0 0 ...\n",
      " $ R method                      : num  0 0 0 0 0 0 0 0 0 0 ...\n",
      " $ R million                     : num  0 0 0 0 0 0 0 0 0 0 ...\n",
      " $ R must                        : num  0 0 0 0 0 0 0 0 0 0 ...\n",
      " $ R name                        : num  0 0 0 0 0 0 0 0 0 0 ...\n",
      " $ R nation                      : num  0 0 0 0 0 0 0 0 0 0 ...\n",
      " $ R notion                      : num  0 0 0 0 0 0 0 0 0 0 ...\n",
      " $ R object                      : num  0 0 0 0 0 0 0 0 0 0 ...\n",
      " $ R onlin                       : num  0 0 0 0 0 0 0 0 0 0 ...\n",
      " $ R onto                        : num  0 0 0 0 0 0 0 0 0 0 ...\n",
      " $ R origin                      : num  0 0 0 0 0 0 0 0 0 0 ...\n",
      " $ R parallel                    : num  0 0 0 0 0 0 0 0 0 0 ...\n",
      " $ R part                        : num  0 0 0 0 1 0 0 0 0 0 ...\n",
      " $ R pattern                     : num  0 0 0 1 0 0 0 0 0 0 ...\n",
      "  [list output truncated]\n"
     ]
    }
   ],
   "source": [
    "str(wordsRemoved)"
   ]
  },
  {
   "cell_type": "code",
   "execution_count": 23,
   "metadata": {
    "collapsed": true
   },
   "outputs": [],
   "source": [
    "wikiWords = cbind(wordsAdded, wordsRemoved)"
   ]
  },
  {
   "cell_type": "code",
   "execution_count": 24,
   "metadata": {
    "collapsed": true
   },
   "outputs": [],
   "source": [
    "wikiWords$Vandal = wiki$Vandal"
   ]
  },
  {
   "cell_type": "code",
   "execution_count": 25,
   "metadata": {
    "collapsed": true
   },
   "outputs": [],
   "source": [
    "library(caTools)\n",
    "\n",
    "set.seed(123)\n",
    "\n",
    "split = sample.split(wikiWords$Vandal, SplitRatio = 0.7)\n",
    "\n",
    "train = subset(wikiWords, split==TRUE)\n",
    "test = subset(wikiWords, split==FALSE)\n"
   ]
  },
  {
   "cell_type": "code",
   "execution_count": 27,
   "metadata": {
    "collapsed": false
   },
   "outputs": [
    {
     "data": {
      "text/plain": [
       "\n",
       "  0   1 \n",
       "618 545 "
      ]
     },
     "execution_count": 27,
     "metadata": {},
     "output_type": "execute_result"
    }
   ],
   "source": [
    "table(test$Vandal)"
   ]
  },
  {
   "cell_type": "code",
   "execution_count": 28,
   "metadata": {
    "collapsed": false
   },
   "outputs": [
    {
     "data": {
      "text/html": [
       "0.531384350816853"
      ],
      "text/latex": [
       "0.531384350816853"
      ],
      "text/markdown": [
       "0.531384350816853"
      ],
      "text/plain": [
       "[1] 0.5313844"
      ]
     },
     "execution_count": 28,
     "metadata": {},
     "output_type": "execute_result"
    }
   ],
   "source": [
    "618/(618+545)"
   ]
  },
  {
   "cell_type": "code",
   "execution_count": 30,
   "metadata": {
    "collapsed": false
   },
   "outputs": [],
   "source": [
    "library(rpart)\n",
    "library(rpart.plot)\n",
    "\n",
    "wikiCART = rpart(Vandal ~ ., data=train, method=\"class\")\n"
   ]
  },
  {
   "cell_type": "code",
   "execution_count": 32,
   "metadata": {
    "collapsed": false
   },
   "outputs": [
    {
     "data": {
      "text/plain": [
       "   predictCART\n",
       "      0   1\n",
       "  0 618   0\n",
       "  1 533  12"
      ]
     },
     "execution_count": 32,
     "metadata": {},
     "output_type": "execute_result"
    }
   ],
   "source": [
    "predictCART = predict(wikiCART, newdata=test, type=\"class\")\n",
    "\n",
    "table(test$Vandal, predictCART)"
   ]
  },
  {
   "cell_type": "code",
   "execution_count": 33,
   "metadata": {
    "collapsed": false
   },
   "outputs": [
    {
     "data": {
      "text/html": [
       "0.541702493551161"
      ],
      "text/latex": [
       "0.541702493551161"
      ],
      "text/markdown": [
       "0.541702493551161"
      ],
      "text/plain": [
       "[1] 0.5417025"
      ]
     },
     "execution_count": 33,
     "metadata": {},
     "output_type": "execute_result"
    }
   ],
   "source": [
    "(618+12)/(618+12+533)"
   ]
  },
  {
   "cell_type": "code",
   "execution_count": 34,
   "metadata": {
    "collapsed": false
   },
   "outputs": [
    {
     "data": {
      "image/png": "[encoded data removed]",
      "text/plain": [
       "plot without title"
      ]
     },
     "metadata": {
      "image/svg+xml": {
       "isolated": true
      }
     },
     "output_type": "display_data"
    }
   ],
   "source": [
    "prp(wikiCART)"
   ]
  },
  {
   "cell_type": "code",
   "execution_count": 35,
   "metadata": {
    "collapsed": true
   },
   "outputs": [],
   "source": [
    "wikiWords2 = wikiWords\n",
    "\n",
    "wikiWords2$HTTP = ifelse(grepl(\"http\",wiki$Added,fixed=TRUE), 1, 0)"
   ]
  },
  {
   "cell_type": "code",
   "execution_count": 36,
   "metadata": {
    "collapsed": false
   },
   "outputs": [
    {
     "data": {
      "text/plain": [
       "\n",
       "   0    1 \n",
       "3659  217 "
      ]
     },
     "execution_count": 36,
     "metadata": {},
     "output_type": "execute_result"
    }
   ],
   "source": [
    "table(wikiWords2$HTTP)"
   ]
  },
  {
   "cell_type": "code",
   "execution_count": 38,
   "metadata": {
    "collapsed": false
   },
   "outputs": [],
   "source": [
    "wikiTrain2 = subset(wikiWords2, split==TRUE)\n",
    "\n",
    "wikiTest2 = subset(wikiWords2, split==FALSE)"
   ]
  },
  {
   "cell_type": "code",
   "execution_count": 39,
   "metadata": {
    "collapsed": true
   },
   "outputs": [],
   "source": [
    "wikiCART2 = rpart(Vandal ~ ., data=wikiTrain2, method=\"class\")\n"
   ]
  },
  {
   "cell_type": "code",
   "execution_count": 40,
   "metadata": {
    "collapsed": false
   },
   "outputs": [
    {
     "data": {
      "text/plain": [
       "   predictCART2\n",
       "      0   1\n",
       "  0 609   9\n",
       "  1 488  57"
      ]
     },
     "execution_count": 40,
     "metadata": {},
     "output_type": "execute_result"
    }
   ],
   "source": [
    "predictCART2 = predict(wikiCART2, newdata=wikiTest2, type=\"class\")\n",
    "\n",
    "table(wikiTest2$Vandal, predictCART2)"
   ]
  },
  {
   "cell_type": "code",
   "execution_count": 42,
   "metadata": {
    "collapsed": false
   },
   "outputs": [
    {
     "data": {
      "text/html": [
       "0.572656921754084"
      ],
      "text/latex": [
       "0.572656921754084"
      ],
      "text/markdown": [
       "0.572656921754084"
      ],
      "text/plain": [
       "[1] 0.5726569"
      ]
     },
     "execution_count": 42,
     "metadata": {},
     "output_type": "execute_result"
    }
   ],
   "source": [
    "(609+57)/(609+9+488+57)"
   ]
  },
  {
   "cell_type": "code",
   "execution_count": 43,
   "metadata": {
    "collapsed": true
   },
   "outputs": [],
   "source": [
    "wikiWords2$NumWordsAdded = rowSums(as.matrix(dtmAdded))\n",
    "\n",
    "wikiWords2$NumWordsRemoved = rowSums(as.matrix(dtmRemoved))"
   ]
  },
  {
   "cell_type": "code",
   "execution_count": 44,
   "metadata": {
    "collapsed": false
   },
   "outputs": [
    {
     "data": {
      "text/html": [
       "4.0500515995872"
      ],
      "text/latex": [
       "4.0500515995872"
      ],
      "text/markdown": [
       "4.0500515995872"
      ],
      "text/plain": [
       "[1] 4.050052"
      ]
     },
     "execution_count": 44,
     "metadata": {},
     "output_type": "execute_result"
    }
   ],
   "source": [
    "mean(wikiWords2$NumWordsAdded)"
   ]
  },
  {
   "cell_type": "code",
   "execution_count": 45,
   "metadata": {
    "collapsed": true
   },
   "outputs": [],
   "source": [
    "wikiTrain3 = subset(wikiWords2, split==TRUE)\n",
    "\n",
    "wikiTest3 = subset(wikiWords2, split==FALSE)"
   ]
  },
  {
   "cell_type": "code",
   "execution_count": 46,
   "metadata": {
    "collapsed": true
   },
   "outputs": [],
   "source": [
    "wikiCART3 = rpart(Vandal ~ ., data=wikiTrain3, method=\"class\")\n"
   ]
  },
  {
   "cell_type": "code",
   "execution_count": 47,
   "metadata": {
    "collapsed": false
   },
   "outputs": [
    {
     "data": {
      "text/plain": [
       "   predictCART3\n",
       "      0   1\n",
       "  0 514 104\n",
       "  1 297 248"
      ]
     },
     "execution_count": 47,
     "metadata": {},
     "output_type": "execute_result"
    }
   ],
   "source": [
    "predictCART3 = predict(wikiCART3, newdata=wikiTest3, type=\"class\")\n",
    "\n",
    "table(wikiTest3$Vandal, predictCART3)"
   ]
  },
  {
   "cell_type": "code",
   "execution_count": 48,
   "metadata": {
    "collapsed": false
   },
   "outputs": [
    {
     "data": {
      "text/html": [
       "0.655202063628547"
      ],
      "text/latex": [
       "0.655202063628547"
      ],
      "text/markdown": [
       "0.655202063628547"
      ],
      "text/plain": [
       "[1] 0.6552021"
      ]
     },
     "execution_count": 48,
     "metadata": {},
     "output_type": "execute_result"
    }
   ],
   "source": [
    "(514+248)/(514+248+104+297)"
   ]
  },
  {
   "cell_type": "code",
   "execution_count": 49,
   "metadata": {
    "collapsed": true
   },
   "outputs": [],
   "source": [
    "wikiWords3 = wikiWords2"
   ]
  },
  {
   "cell_type": "code",
   "execution_count": 50,
   "metadata": {
    "collapsed": true
   },
   "outputs": [],
   "source": [
    "wikiWords3$Minor = wiki$Minor\n",
    "\n",
    "wikiWords3$Loggedin = wiki$Loggedin"
   ]
  },
  {
   "cell_type": "code",
   "execution_count": 51,
   "metadata": {
    "collapsed": true
   },
   "outputs": [],
   "source": [
    "wikiTrain4 = subset(wikiWords3, split==TRUE)\n",
    "\n",
    "wikiTest4 = subset(wikiWords3, split==FALSE)\n",
    "\n",
    "wikiCART4 = rpart(Vandal ~ ., data=wikiTrain4, method=\"class\")\n"
   ]
  },
  {
   "cell_type": "code",
   "execution_count": 52,
   "metadata": {
    "collapsed": false
   },
   "outputs": [
    {
     "data": {
      "text/plain": [
       "   predictCART4\n",
       "      0   1\n",
       "  0 595  23\n",
       "  1 304 241"
      ]
     },
     "execution_count": 52,
     "metadata": {},
     "output_type": "execute_result"
    }
   ],
   "source": [
    "predictCART4 = predict(wikiCART4, newdata=wikiTest4, type=\"class\")\n",
    "\n",
    "table(wikiTest4$Vandal, predictCART4)"
   ]
  },
  {
   "cell_type": "code",
   "execution_count": 53,
   "metadata": {
    "collapsed": false
   },
   "outputs": [
    {
     "data": {
      "text/html": [
       "0.718830610490112"
      ],
      "text/latex": [
       "0.718830610490112"
      ],
      "text/markdown": [
       "0.718830610490112"
      ],
      "text/plain": [
       "[1] 0.7188306"
      ]
     },
     "execution_count": 53,
     "metadata": {},
     "output_type": "execute_result"
    }
   ],
   "source": [
    "(595+241)/(595+241+304+23)"
   ]
  },
  {
   "cell_type": "code",
   "execution_count": 54,
   "metadata": {
    "collapsed": false
   },
   "outputs": [
    {
     "data": {
      "image/png": "[encoded data removed]",
      "text/plain": [
       "plot without title"
      ]
     },
     "metadata": {
      "image/svg+xml": {
       "isolated": true
      }
     },
     "output_type": "display_data"
    }
   ],
   "source": [
    "prp(wikiCART4)"
   ]
  },
  {
   "cell_type": "code",
   "execution_count": null,
   "metadata": {
    "collapsed": true
   },
   "outputs": [],
   "source": []
  }
 ],
 "metadata": {
  "kernelspec": {
   "display_name": "R",
   "language": "R",
   "name": "ir"
  },
  "language_info": {
   "codemirror_mode": "r",
   "file_extension": ".r",
   "mimetype": "text/x-r-source",
   "name": "R",
   "pygments_lexer": "r",
   "version": "3.2.2"
  }
 },
 "nbformat": 4,
 "nbformat_minor": 0
}
