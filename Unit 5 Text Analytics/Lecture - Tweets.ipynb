{
 "cells": [
  {
   "cell_type": "code",
   "execution_count": 1,
   "metadata": {
    "collapsed": false
   },
   "outputs": [
    {
     "name": "stdout",
     "output_type": "stream",
     "text": [
      "'data.frame':\t1181 obs. of  2 variables:\n",
      " $ Tweet: chr  \"I have to say, Apple has by far the best customer care service I have ever received! @Apple @AppStore\" \"iOS 7 is so fricking smooth & beautiful!! #ThanxApple @Apple\" \"LOVE U @APPLE\" \"Thank you @apple, loving my new iPhone 5S!!!!!  #apple #iphone5S pic.twitter.com/XmHJCU4pcb\" ...\n",
      " $ Avg  : num  2 2 1.8 1.8 1.8 1.8 1.8 1.6 1.6 1.6 ...\n"
     ]
    }
   ],
   "source": [
    "tweets = read.csv(\"tweets.csv\", stringsAsFactors=FALSE)\n",
    "\n",
    "str(tweets)\n",
    "\n"
   ]
  },
  {
   "cell_type": "code",
   "execution_count": 2,
   "metadata": {
    "collapsed": false
   },
   "outputs": [
    {
     "data": {
      "text/plain": [
       "\n",
       "FALSE  TRUE \n",
       "  999   182 "
      ]
     },
     "execution_count": 2,
     "metadata": {},
     "output_type": "execute_result"
    }
   ],
   "source": [
    "\n",
    "# Create dependent variable\n",
    "\n",
    "tweets$Negative = as.factor(tweets$Avg <= -1)\n",
    "\n",
    "table(tweets$Negative)"
   ]
  },
  {
   "cell_type": "code",
   "execution_count": 4,
   "metadata": {
    "collapsed": false
   },
   "outputs": [
    {
     "name": "stdout",
     "output_type": "stream",
     "text": [
      "\n",
      "The downloaded source packages are in\n",
      "\t‘/private/var/folders/37/nz8s2zfd5j11_ck6wrwbhryr0000gn/T/RtmpwQKHkQ/downloaded_packages’\n"
     ]
    },
    {
     "name": "stderr",
     "output_type": "stream",
     "text": [
      "Updating HTML index of packages in '.Library'\n",
      "Making 'packages.html' ... done\n"
     ]
    }
   ],
   "source": [
    "install.packages(\"SnowballC\", repos=\"http://cran.stat.ucla.edu/\")"
   ]
  },
  {
   "cell_type": "code",
   "execution_count": 5,
   "metadata": {
    "collapsed": false
   },
   "outputs": [],
   "source": [
    "\n",
    "library(tm)\n",
    "library(SnowballC)\n"
   ]
  },
  {
   "cell_type": "code",
   "execution_count": 6,
   "metadata": {
    "collapsed": false
   },
   "outputs": [
    {
     "data": {
      "text/plain": [
       "<<VCorpus>>\n",
       "Metadata:  corpus specific: 0, document level (indexed): 0\n",
       "Content:  documents: 1181"
      ]
     },
     "execution_count": 6,
     "metadata": {},
     "output_type": "execute_result"
    },
    {
     "data": {
      "text/plain": [
       "<<PlainTextDocument>>\n",
       "Metadata:  7\n",
       "Content:  chars: 101"
      ]
     },
     "execution_count": 6,
     "metadata": {},
     "output_type": "execute_result"
    }
   ],
   "source": [
    "# Create corpus\n",
    " \n",
    "corpus = Corpus(VectorSource(tweets$Tweet))\n",
    "\n",
    "# Look at corpus\n",
    "corpus\n",
    "\n",
    "corpus[[1]]"
   ]
  },
  {
   "cell_type": "code",
   "execution_count": 11,
   "metadata": {
    "collapsed": false
   },
   "outputs": [
    {
     "ename": "ERROR",
     "evalue": "Error in corpus[[1]]$content: $ operator is invalid for atomic vectors\n",
     "output_type": "error",
     "traceback": [
      "Error in corpus[[1]]$content: $ operator is invalid for atomic vectors\n"
     ]
    }
   ],
   "source": [
    "# Convert to lower-case\n",
    "\n",
    "corpus = tm_map(corpus, tolower)\n",
    "\n",
    "corpus[[1]]$content\n",
    "\n",
    "# IMPORTANT NOTE: If you are using the latest version of the tm package, you will need to run the following line before continuing (it converts corpus to a Plain Text Document). This is a recent change having to do with the tolower function that occurred after this video was recorded.\n",
    "\n",
    "corpus = tm_map(corpus, PlainTextDocument)"
   ]
  },
  {
   "cell_type": "code",
   "execution_count": 12,
   "metadata": {
    "collapsed": false
   },
   "outputs": [
    {
     "data": {
      "text/html": [
       "'   say    far  best customer care service   ever received  appstore'"
      ],
      "text/latex": [
       "'   say    far  best customer care service   ever received  appstore'"
      ],
      "text/markdown": [
       "'   say    far  best customer care service   ever received  appstore'"
      ],
      "text/plain": [
       "[1] \"   say    far  best customer care service   ever received  appstore\""
      ]
     },
     "execution_count": 12,
     "metadata": {},
     "output_type": "execute_result"
    }
   ],
   "source": [
    "# Remove punctuation\n",
    "\n",
    "corpus = tm_map(corpus, removePunctuation)\n",
    "\n",
    "corpus[[1]]$content\n"
   ]
  },
  {
   "cell_type": "code",
   "execution_count": 9,
   "metadata": {
    "collapsed": false
   },
   "outputs": [
    {
     "data": {
      "text/html": [
       "<ol class=list-inline>\n",
       "\t<li>'i'</li>\n",
       "\t<li>'me'</li>\n",
       "\t<li>'my'</li>\n",
       "\t<li>'myself'</li>\n",
       "\t<li>'we'</li>\n",
       "\t<li>'our'</li>\n",
       "\t<li>'ours'</li>\n",
       "\t<li>'ourselves'</li>\n",
       "\t<li>'you'</li>\n",
       "\t<li>'your'</li>\n",
       "</ol>\n"
      ],
      "text/latex": [
       "\\begin{enumerate*}\n",
       "\\item 'i'\n",
       "\\item 'me'\n",
       "\\item 'my'\n",
       "\\item 'myself'\n",
       "\\item 'we'\n",
       "\\item 'our'\n",
       "\\item 'ours'\n",
       "\\item 'ourselves'\n",
       "\\item 'you'\n",
       "\\item 'your'\n",
       "\\end{enumerate*}\n"
      ],
      "text/markdown": [
       "1. 'i'\n",
       "2. 'me'\n",
       "3. 'my'\n",
       "4. 'myself'\n",
       "5. 'we'\n",
       "6. 'our'\n",
       "7. 'ours'\n",
       "8. 'ourselves'\n",
       "9. 'you'\n",
       "10. 'your'\n",
       "\n",
       "\n"
      ],
      "text/plain": [
       " [1] \"i\"         \"me\"        \"my\"        \"myself\"    \"we\"        \"our\"      \n",
       " [7] \"ours\"      \"ourselves\" \"you\"       \"your\"     "
      ]
     },
     "execution_count": 9,
     "metadata": {},
     "output_type": "execute_result"
    }
   ],
   "source": [
    "# Look at stop words \n",
    "stopwords(\"english\")[1:10]\n"
   ]
  },
  {
   "cell_type": "code",
   "execution_count": 13,
   "metadata": {
    "collapsed": false
   },
   "outputs": [
    {
     "data": {
      "text/html": [
       "'   say    far  best customer care service   ever received  appstore'"
      ],
      "text/latex": [
       "'   say    far  best customer care service   ever received  appstore'"
      ],
      "text/markdown": [
       "'   say    far  best customer care service   ever received  appstore'"
      ],
      "text/plain": [
       "[1] \"   say    far  best customer care service   ever received  appstore\""
      ]
     },
     "execution_count": 13,
     "metadata": {},
     "output_type": "execute_result"
    }
   ],
   "source": [
    "# Remove stopwords and apple\n",
    "\n",
    "corpus = tm_map(corpus, removeWords, c(\"apple\", stopwords(\"english\")))\n",
    "\n",
    "corpus[[1]]$content\n"
   ]
  },
  {
   "cell_type": "code",
   "execution_count": 14,
   "metadata": {
    "collapsed": false
   },
   "outputs": [
    {
     "data": {
      "text/html": [
       "'   say    far  best custom care servic   ever receiv  appstor'"
      ],
      "text/latex": [
       "'   say    far  best custom care servic   ever receiv  appstor'"
      ],
      "text/markdown": [
       "'   say    far  best custom care servic   ever receiv  appstor'"
      ],
      "text/plain": [
       "[1] \"   say    far  best custom care servic   ever receiv  appstor\""
      ]
     },
     "execution_count": 14,
     "metadata": {},
     "output_type": "execute_result"
    }
   ],
   "source": [
    "# Stem document \n",
    "\n",
    "corpus = tm_map(corpus, stemDocument)\n",
    "\n",
    "corpus[[1]]$content\n",
    "\n"
   ]
  },
  {
   "cell_type": "code",
   "execution_count": 15,
   "metadata": {
    "collapsed": false
   },
   "outputs": [
    {
     "data": {
      "text/plain": [
       "<<DocumentTermMatrix (documents: 1181, terms: 3289)>>\n",
       "Non-/sparse entries: 8980/3875329\n",
       "Sparsity           : 100%\n",
       "Maximal term length: 115\n",
       "Weighting          : term frequency (tf)"
      ]
     },
     "execution_count": 15,
     "metadata": {},
     "output_type": "execute_result"
    }
   ],
   "source": [
    "# Create matrix\n",
    "\n",
    "frequencies = DocumentTermMatrix(corpus)\n",
    "\n",
    "frequencies"
   ]
  },
  {
   "cell_type": "code",
   "execution_count": 16,
   "metadata": {
    "collapsed": false
   },
   "outputs": [
    {
     "name": "stdout",
     "output_type": "stream",
     "text": [
      "<<DocumentTermMatrix (documents: 6, terms: 11)>>\n",
      "Non-/sparse entries: 1/65\n",
      "Sparsity           : 98%\n",
      "Maximal term length: 9\n",
      "Weighting          : term frequency (tf)\n",
      "\n",
      "              Terms\n",
      "Docs           cheapen cheaper check cheep cheer cheerio cherylcol chief\n",
      "  character(0)       0       0     0     0     0       0         0     0\n",
      "  character(0)       0       0     0     0     0       0         0     0\n",
      "  character(0)       0       0     0     0     0       0         0     0\n",
      "  character(0)       0       0     0     0     0       0         0     0\n",
      "  character(0)       0       0     0     0     0       0         0     0\n",
      "  character(0)       0       0     0     0     1       0         0     0\n",
      "              Terms\n",
      "Docs           chiiiiqu child children\n",
      "  character(0)        0     0        0\n",
      "  character(0)        0     0        0\n",
      "  character(0)        0     0        0\n",
      "  character(0)        0     0        0\n",
      "  character(0)        0     0        0\n",
      "  character(0)        0     0        0\n"
     ]
    }
   ],
   "source": [
    "# Look at matrix \n",
    "\n",
    "inspect(frequencies[1000:1005,505:515])\n"
   ]
  },
  {
   "cell_type": "code",
   "execution_count": 17,
   "metadata": {
    "collapsed": false
   },
   "outputs": [
    {
     "data": {
      "text/html": [
       "<ol class=list-inline>\n",
       "\t<li>'android'</li>\n",
       "\t<li>'anyon'</li>\n",
       "\t<li>'app'</li>\n",
       "\t<li>'appl'</li>\n",
       "\t<li>'back'</li>\n",
       "\t<li>'batteri'</li>\n",
       "\t<li>'better'</li>\n",
       "\t<li>'buy'</li>\n",
       "\t<li>'can'</li>\n",
       "\t<li>'cant'</li>\n",
       "\t<li>'come'</li>\n",
       "\t<li>'dont'</li>\n",
       "\t<li>'fingerprint'</li>\n",
       "\t<li>'freak'</li>\n",
       "\t<li>'get'</li>\n",
       "\t<li>'googl'</li>\n",
       "\t<li>'ios7'</li>\n",
       "\t<li>'ipad'</li>\n",
       "\t<li>'iphon'</li>\n",
       "\t<li>'iphone5'</li>\n",
       "\t<li>'iphone5c'</li>\n",
       "\t<li>'ipod'</li>\n",
       "\t<li>'ipodplayerpromo'</li>\n",
       "\t<li>'itun'</li>\n",
       "\t<li>'just'</li>\n",
       "\t<li>'like'</li>\n",
       "\t<li>'lol'</li>\n",
       "\t<li>'look'</li>\n",
       "\t<li>'love'</li>\n",
       "\t<li>'make'</li>\n",
       "\t<li>'market'</li>\n",
       "\t<li>'microsoft'</li>\n",
       "\t<li>'need'</li>\n",
       "\t<li>'new'</li>\n",
       "\t<li>'now'</li>\n",
       "\t<li>'one'</li>\n",
       "\t<li>'phone'</li>\n",
       "\t<li>'pleas'</li>\n",
       "\t<li>'promo'</li>\n",
       "\t<li>'promoipodplayerpromo'</li>\n",
       "\t<li>'realli'</li>\n",
       "\t<li>'releas'</li>\n",
       "\t<li>'samsung'</li>\n",
       "\t<li>'say'</li>\n",
       "\t<li>'store'</li>\n",
       "\t<li>'thank'</li>\n",
       "\t<li>'think'</li>\n",
       "\t<li>'time'</li>\n",
       "\t<li>'twitter'</li>\n",
       "\t<li>'updat'</li>\n",
       "\t<li>'use'</li>\n",
       "\t<li>'via'</li>\n",
       "\t<li>'want'</li>\n",
       "\t<li>'well'</li>\n",
       "\t<li>'will'</li>\n",
       "\t<li>'work'</li>\n",
       "</ol>\n"
      ],
      "text/latex": [
       "\\begin{enumerate*}\n",
       "\\item 'android'\n",
       "\\item 'anyon'\n",
       "\\item 'app'\n",
       "\\item 'appl'\n",
       "\\item 'back'\n",
       "\\item 'batteri'\n",
       "\\item 'better'\n",
       "\\item 'buy'\n",
       "\\item 'can'\n",
       "\\item 'cant'\n",
       "\\item 'come'\n",
       "\\item 'dont'\n",
       "\\item 'fingerprint'\n",
       "\\item 'freak'\n",
       "\\item 'get'\n",
       "\\item 'googl'\n",
       "\\item 'ios7'\n",
       "\\item 'ipad'\n",
       "\\item 'iphon'\n",
       "\\item 'iphone5'\n",
       "\\item 'iphone5c'\n",
       "\\item 'ipod'\n",
       "\\item 'ipodplayerpromo'\n",
       "\\item 'itun'\n",
       "\\item 'just'\n",
       "\\item 'like'\n",
       "\\item 'lol'\n",
       "\\item 'look'\n",
       "\\item 'love'\n",
       "\\item 'make'\n",
       "\\item 'market'\n",
       "\\item 'microsoft'\n",
       "\\item 'need'\n",
       "\\item 'new'\n",
       "\\item 'now'\n",
       "\\item 'one'\n",
       "\\item 'phone'\n",
       "\\item 'pleas'\n",
       "\\item 'promo'\n",
       "\\item 'promoipodplayerpromo'\n",
       "\\item 'realli'\n",
       "\\item 'releas'\n",
       "\\item 'samsung'\n",
       "\\item 'say'\n",
       "\\item 'store'\n",
       "\\item 'thank'\n",
       "\\item 'think'\n",
       "\\item 'time'\n",
       "\\item 'twitter'\n",
       "\\item 'updat'\n",
       "\\item 'use'\n",
       "\\item 'via'\n",
       "\\item 'want'\n",
       "\\item 'well'\n",
       "\\item 'will'\n",
       "\\item 'work'\n",
       "\\end{enumerate*}\n"
      ],
      "text/markdown": [
       "1. 'android'\n",
       "2. 'anyon'\n",
       "3. 'app'\n",
       "4. 'appl'\n",
       "5. 'back'\n",
       "6. 'batteri'\n",
       "7. 'better'\n",
       "8. 'buy'\n",
       "9. 'can'\n",
       "10. 'cant'\n",
       "11. 'come'\n",
       "12. 'dont'\n",
       "13. 'fingerprint'\n",
       "14. 'freak'\n",
       "15. 'get'\n",
       "16. 'googl'\n",
       "17. 'ios7'\n",
       "18. 'ipad'\n",
       "19. 'iphon'\n",
       "20. 'iphone5'\n",
       "21. 'iphone5c'\n",
       "22. 'ipod'\n",
       "23. 'ipodplayerpromo'\n",
       "24. 'itun'\n",
       "25. 'just'\n",
       "26. 'like'\n",
       "27. 'lol'\n",
       "28. 'look'\n",
       "29. 'love'\n",
       "30. 'make'\n",
       "31. 'market'\n",
       "32. 'microsoft'\n",
       "33. 'need'\n",
       "34. 'new'\n",
       "35. 'now'\n",
       "36. 'one'\n",
       "37. 'phone'\n",
       "38. 'pleas'\n",
       "39. 'promo'\n",
       "40. 'promoipodplayerpromo'\n",
       "41. 'realli'\n",
       "42. 'releas'\n",
       "43. 'samsung'\n",
       "44. 'say'\n",
       "45. 'store'\n",
       "46. 'thank'\n",
       "47. 'think'\n",
       "48. 'time'\n",
       "49. 'twitter'\n",
       "50. 'updat'\n",
       "51. 'use'\n",
       "52. 'via'\n",
       "53. 'want'\n",
       "54. 'well'\n",
       "55. 'will'\n",
       "56. 'work'\n",
       "\n",
       "\n"
      ],
      "text/plain": [
       " [1] \"android\"              \"anyon\"                \"app\"                 \n",
       " [4] \"appl\"                 \"back\"                 \"batteri\"             \n",
       " [7] \"better\"               \"buy\"                  \"can\"                 \n",
       "[10] \"cant\"                 \"come\"                 \"dont\"                \n",
       "[13] \"fingerprint\"          \"freak\"                \"get\"                 \n",
       "[16] \"googl\"                \"ios7\"                 \"ipad\"                \n",
       "[19] \"iphon\"                \"iphone5\"              \"iphone5c\"            \n",
       "[22] \"ipod\"                 \"ipodplayerpromo\"      \"itun\"                \n",
       "[25] \"just\"                 \"like\"                 \"lol\"                 \n",
       "[28] \"look\"                 \"love\"                 \"make\"                \n",
       "[31] \"market\"               \"microsoft\"            \"need\"                \n",
       "[34] \"new\"                  \"now\"                  \"one\"                 \n",
       "[37] \"phone\"                \"pleas\"                \"promo\"               \n",
       "[40] \"promoipodplayerpromo\" \"realli\"               \"releas\"              \n",
       "[43] \"samsung\"              \"say\"                  \"store\"               \n",
       "[46] \"thank\"                \"think\"                \"time\"                \n",
       "[49] \"twitter\"              \"updat\"                \"use\"                 \n",
       "[52] \"via\"                  \"want\"                 \"well\"                \n",
       "[55] \"will\"                 \"work\"                "
      ]
     },
     "execution_count": 17,
     "metadata": {},
     "output_type": "execute_result"
    }
   ],
   "source": [
    "# Check for sparsity\n",
    "\n",
    "findFreqTerms(frequencies, lowfreq=20)\n"
   ]
  },
  {
   "cell_type": "code",
   "execution_count": 18,
   "metadata": {
    "collapsed": false
   },
   "outputs": [
    {
     "data": {
      "text/plain": [
       "<<DocumentTermMatrix (documents: 1181, terms: 309)>>\n",
       "Non-/sparse entries: 4669/360260\n",
       "Sparsity           : 99%\n",
       "Maximal term length: 20\n",
       "Weighting          : term frequency (tf)"
      ]
     },
     "execution_count": 18,
     "metadata": {},
     "output_type": "execute_result"
    }
   ],
   "source": [
    "# Remove sparse terms\n",
    "\n",
    "sparse = removeSparseTerms(frequencies, 0.995)\n",
    "sparse"
   ]
  },
  {
   "cell_type": "code",
   "execution_count": 19,
   "metadata": {
    "collapsed": true
   },
   "outputs": [],
   "source": [
    "# Convert to a data frame\n",
    "\n",
    "tweetsSparse = as.data.frame(as.matrix(sparse))\n"
   ]
  },
  {
   "cell_type": "code",
   "execution_count": 20,
   "metadata": {
    "collapsed": true
   },
   "outputs": [],
   "source": [
    "# Make all variable names R-friendly\n",
    "\n",
    "colnames(tweetsSparse) = make.names(colnames(tweetsSparse))"
   ]
  },
  {
   "cell_type": "code",
   "execution_count": 21,
   "metadata": {
    "collapsed": true
   },
   "outputs": [],
   "source": [
    "\n",
    "# Add dependent variable\n",
    "\n",
    "tweetsSparse$Negative = tweets$Negative"
   ]
  },
  {
   "cell_type": "code",
   "execution_count": 22,
   "metadata": {
    "collapsed": true
   },
   "outputs": [],
   "source": [
    "# Split the data\n",
    "\n",
    "library(caTools)\n",
    "\n",
    "set.seed(123)\n",
    "\n",
    "split = sample.split(tweetsSparse$Negative, SplitRatio = 0.7)\n",
    "\n",
    "trainSparse = subset(tweetsSparse, split==TRUE)\n",
    "testSparse = subset(tweetsSparse, split==FALSE)\n"
   ]
  },
  {
   "cell_type": "code",
   "execution_count": 23,
   "metadata": {
    "collapsed": false
   },
   "outputs": [
    {
     "data": {
      "text/html": [
       "<ol class=list-inline>\n",
       "\t<li>'iphon'</li>\n",
       "\t<li>'itun'</li>\n",
       "\t<li>'new'</li>\n",
       "</ol>\n"
      ],
      "text/latex": [
       "\\begin{enumerate*}\n",
       "\\item 'iphon'\n",
       "\\item 'itun'\n",
       "\\item 'new'\n",
       "\\end{enumerate*}\n"
      ],
      "text/markdown": [
       "1. 'iphon'\n",
       "2. 'itun'\n",
       "3. 'new'\n",
       "\n",
       "\n"
      ],
      "text/plain": [
       "[1] \"iphon\" \"itun\"  \"new\"  "
      ]
     },
     "execution_count": 23,
     "metadata": {},
     "output_type": "execute_result"
    }
   ],
   "source": [
    "\n",
    "findFreqTerms(frequencies, lowfreq=100)\n"
   ]
  },
  {
   "cell_type": "code",
   "execution_count": 24,
   "metadata": {
    "collapsed": false
   },
   "outputs": [
    {
     "data": {
      "image/png": "[encoded data removed]",
      "text/plain": [
       "plot without title"
      ]
     },
     "metadata": {
      "image/svg+xml": {
       "isolated": true
      }
     },
     "output_type": "display_data"
    }
   ],
   "source": [
    "# Video 7\n",
    "\n",
    "# Build a CART model\n",
    "\n",
    "library(rpart)\n",
    "library(rpart.plot)\n",
    "\n",
    "tweetCART = rpart(Negative ~ ., data=trainSparse, method=\"class\")\n",
    "\n",
    "prp(tweetCART)"
   ]
  },
  {
   "cell_type": "code",
   "execution_count": 25,
   "metadata": {
    "collapsed": false
   },
   "outputs": [
    {
     "data": {
      "text/plain": [
       "       predictCART\n",
       "        FALSE TRUE\n",
       "  FALSE   294    6\n",
       "  TRUE     37   18"
      ]
     },
     "execution_count": 25,
     "metadata": {},
     "output_type": "execute_result"
    }
   ],
   "source": [
    "# Evaluate the performance of the model\n",
    "predictCART = predict(tweetCART, newdata=testSparse, type=\"class\")\n",
    "\n",
    "table(testSparse$Negative, predictCART)\n"
   ]
  },
  {
   "cell_type": "code",
   "execution_count": 26,
   "metadata": {
    "collapsed": false
   },
   "outputs": [
    {
     "data": {
      "text/html": [
       "0.87887323943662"
      ],
      "text/latex": [
       "0.87887323943662"
      ],
      "text/markdown": [
       "0.87887323943662"
      ],
      "text/plain": [
       "[1] 0.8788732"
      ]
     },
     "execution_count": 26,
     "metadata": {},
     "output_type": "execute_result"
    }
   ],
   "source": [
    "# Compute accuracy\n",
    "\n",
    "(294+18)/(294+6+37+18)"
   ]
  },
  {
   "cell_type": "code",
   "execution_count": 27,
   "metadata": {
    "collapsed": false
   },
   "outputs": [
    {
     "data": {
      "text/plain": [
       "\n",
       "FALSE  TRUE \n",
       "  300    55 "
      ]
     },
     "execution_count": 27,
     "metadata": {},
     "output_type": "execute_result"
    },
    {
     "data": {
      "text/html": [
       "0.845070422535211"
      ],
      "text/latex": [
       "0.845070422535211"
      ],
      "text/markdown": [
       "0.845070422535211"
      ],
      "text/plain": [
       "[1] 0.8450704"
      ]
     },
     "execution_count": 27,
     "metadata": {},
     "output_type": "execute_result"
    }
   ],
   "source": [
    "# Baseline accuracy \n",
    "\n",
    "table(testSparse$Negative)\n",
    "\n",
    "300/(300+55)"
   ]
  },
  {
   "cell_type": "code",
   "execution_count": 28,
   "metadata": {
    "collapsed": false
   },
   "outputs": [
    {
     "name": "stderr",
     "output_type": "stream",
     "text": [
      "randomForest 4.6-12\n",
      "Type rfNews() to see new features/changes/bug fixes.\n"
     ]
    }
   ],
   "source": [
    "# Random forest model\n",
    "\n",
    "library(randomForest)\n",
    "set.seed(123)\n",
    "\n",
    "tweetRF = randomForest(Negative ~ ., data=trainSparse)\n"
   ]
  },
  {
   "cell_type": "code",
   "execution_count": 29,
   "metadata": {
    "collapsed": false
   },
   "outputs": [
    {
     "data": {
      "text/plain": [
       "       predictRF\n",
       "        FALSE TRUE\n",
       "  FALSE   293    7\n",
       "  TRUE     34   21"
      ]
     },
     "execution_count": 29,
     "metadata": {},
     "output_type": "execute_result"
    }
   ],
   "source": [
    "# Make predictions:\n",
    "predictRF = predict(tweetRF, newdata=testSparse)\n",
    "\n",
    "table(testSparse$Negative, predictRF)\n"
   ]
  },
  {
   "cell_type": "code",
   "execution_count": 30,
   "metadata": {
    "collapsed": false
   },
   "outputs": [
    {
     "data": {
      "text/html": [
       "0.884507042253521"
      ],
      "text/latex": [
       "0.884507042253521"
      ],
      "text/markdown": [
       "0.884507042253521"
      ],
      "text/plain": [
       "[1] 0.884507"
      ]
     },
     "execution_count": 30,
     "metadata": {},
     "output_type": "execute_result"
    }
   ],
   "source": [
    "# Accuracy:\n",
    "(293+21)/(293+7+34+21)"
   ]
  },
  {
   "cell_type": "code",
   "execution_count": 32,
   "metadata": {
    "collapsed": false
   },
   "outputs": [
    {
     "name": "stderr",
     "output_type": "stream",
     "text": [
      "Warning message:\n",
      ": glm.fit: algorithm did not convergeWarning message:\n",
      ": glm.fit: fitted probabilities numerically 0 or 1 occurred"
     ]
    },
    {
     "data": {
      "text/plain": [
       "\n",
       "Call:\n",
       "glm(formula = Negative ~ ., family = binomial, data = trainSparse)\n",
       "\n",
       "Deviance Residuals: \n",
       "   Min      1Q  Median      3Q     Max  \n",
       " -8.49    0.00    0.00    0.00    8.49  \n",
       "\n",
       "Coefficients: (7 not defined because of singularities)\n",
       "                       Estimate Std. Error    z value Pr(>|z|)    \n",
       "(Intercept)          -1.192e+15  5.330e+06 -223730965   <2e-16 ***\n",
       "X244tsuyoponzu        1.192e+15  5.330e+06  223721111   <2e-16 ***\n",
       "X7evenstarz           2.969e+15  4.542e+07   65363540   <2e-16 ***\n",
       "actual               -5.638e+14  2.884e+07  -19550250   <2e-16 ***\n",
       "add                  -7.916e+14  6.062e+07  -13057595   <2e-16 ***\n",
       "alreadi              -3.370e+14  3.772e+07   -8935147   <2e-16 ***\n",
       "alway                -1.758e+15  4.813e+07  -36537047   <2e-16 ***\n",
       "amaz                 -4.643e+14  3.977e+07  -11674796   <2e-16 ***\n",
       "amazon                3.320e+14  9.950e+07    3336687   <2e-16 ***\n",
       "android               6.360e+14  2.007e+07   31684676   <2e-16 ***\n",
       "announc              -2.204e+15  2.809e+07  -78455254   <2e-16 ***\n",
       "anyon                -5.459e+14  2.607e+07  -20937323   <2e-16 ***\n",
       "app                   2.504e+14  1.556e+07   16088416   <2e-16 ***\n",
       "appl                 -8.426e+14  1.695e+07  -49700811   <2e-16 ***\n",
       "appstor              -1.410e+15  3.697e+07  -38148885   <2e-16 ***\n",
       "arent                -1.696e+15  4.287e+07  -39558017   <2e-16 ***\n",
       "ask                  -5.565e+14  3.861e+07  -14412992   <2e-16 ***\n",
       "avail                -1.792e+15  3.782e+07  -47393764   <2e-16 ***\n",
       "away                 -3.826e+14  4.471e+07   -8555895   <2e-16 ***\n",
       "awesom                7.558e+14  3.464e+07   21820329   <2e-16 ***\n",
       "back                 -1.385e+15  2.304e+07  -60112281   <2e-16 ***\n",
       "batteri              -7.239e+14  3.029e+07  -23901292   <2e-16 ***\n",
       "best                  1.885e+15  3.759e+07   50153461   <2e-16 ***\n",
       "better                8.400e+14  2.169e+07   38719624   <2e-16 ***\n",
       "big                  -2.893e+15  3.069e+07  -94269245   <2e-16 ***\n",
       "bit                   1.064e+14  2.799e+07    3800410   <2e-16 ***\n",
       "black                 1.429e+15  3.684e+07   38798084   <2e-16 ***\n",
       "blackberri           -2.546e+15  3.251e+07  -78319057   <2e-16 ***\n",
       "break.                8.750e+14  3.619e+07   24181011   <2e-16 ***\n",
       "bring                -1.758e+15  3.576e+07  -49176246   <2e-16 ***\n",
       "burberri             -2.091e+14  3.593e+07   -5818961   <2e-16 ***\n",
       "busi                 -3.007e+15  3.130e+07  -96060180   <2e-16 ***\n",
       "buy                   2.017e+15  2.469e+07   81703297   <2e-16 ***\n",
       "call                  2.051e+15  3.203e+07   64023927   <2e-16 ***\n",
       "can                  -6.752e+14  1.522e+07  -44353708   <2e-16 ***\n",
       "cant                  6.234e+14  2.174e+07   28672428   <2e-16 ***\n",
       "carbon                4.008e+15  1.194e+08   33561899   <2e-16 ***\n",
       "card                  4.793e+15  5.740e+07   83486643   <2e-16 ***\n",
       "care                  2.100e+15  3.773e+07   55666683   <2e-16 ***\n",
       "case                  5.929e+14  3.509e+07   16895448   <2e-16 ***\n",
       "cdp                   4.333e+15  8.722e+07   49678253   <2e-16 ***\n",
       "chang                 3.636e+14  3.216e+07   11304685   <2e-16 ***\n",
       "charg                 3.511e+14  4.422e+07    7938843   <2e-16 ***\n",
       "charger               6.011e+13  2.806e+07    2142480   <2e-16 ***\n",
       "cheap                 3.017e+11  3.328e+07       9064   <2e-16 ***\n",
       "china                 9.421e+14  2.605e+07   36166021   <2e-16 ***\n",
       "color                -2.442e+15  2.638e+07  -92577664   <2e-16 ***\n",
       "colour                4.956e+14  5.176e+07    9574908   <2e-16 ***\n",
       "come                 -3.484e+14  1.973e+07  -17653016   <2e-16 ***\n",
       "compani              -9.029e+14  2.785e+07  -32423125   <2e-16 ***\n",
       "condescens            2.764e+14  4.993e+07    5535573   <2e-16 ***\n",
       "condom                4.557e+14  4.130e+07   11035215   <2e-16 ***\n",
       "copi                 -4.856e+14  4.424e+07  -10976057   <2e-16 ***\n",
       "crack                -2.313e+14  4.425e+07   -5226834   <2e-16 ***\n",
       "creat                 8.928e+14  3.639e+07   24537589   <2e-16 ***\n",
       "custom                2.625e+14  4.341e+07    6046361   <2e-16 ***\n",
       "darn                  7.884e+14  3.199e+07   24647148   <2e-16 ***\n",
       "data                  1.873e+15  3.652e+07   51291013   <2e-16 ***\n",
       "date                 -9.632e+14  4.424e+07  -21772325   <2e-16 ***\n",
       "day                   1.200e+15  2.777e+07   43235312   <2e-16 ***\n",
       "dear                  1.249e+15  3.169e+07   39404439   <2e-16 ***\n",
       "design                2.566e+14  3.663e+07    7005141   <2e-16 ***\n",
       "develop              -1.015e+15  2.670e+07  -38003935   <2e-16 ***\n",
       "devic                -1.287e+15  2.559e+07  -50283639   <2e-16 ***\n",
       "didnt                 1.218e+15  3.518e+07   34613969   <2e-16 ***\n",
       "die                  -5.583e+13  3.535e+07   -1579365   <2e-16 ***\n",
       "differ                1.386e+15  3.527e+07   39303122   <2e-16 ***\n",
       "disappoint            3.632e+15  3.989e+07   91052026   <2e-16 ***\n",
       "discontinu            1.243e+15  1.268e+08    9796712   <2e-16 ***\n",
       "divulg                1.688e+15  2.769e+08    6096810   <2e-16 ***\n",
       "doesnt               -4.850e+14  3.710e+07  -13073796   <2e-16 ***\n",
       "done                 -7.789e+14  3.079e+07  -25296159   <2e-16 ***\n",
       "dont                  2.045e+13  1.925e+07    1061825   <2e-16 ***\n",
       "download              2.133e+15  4.755e+07   44849362   <2e-16 ***\n",
       "drop                 -9.128e+14  3.445e+07  -26497157   <2e-16 ***\n",
       "email                -1.557e+15  4.057e+07  -38381066   <2e-16 ***\n",
       "emiss                -8.309e+15  1.761e+08  -47198421   <2e-16 ***\n",
       "emoji                 3.427e+14  3.459e+07    9906203   <2e-16 ***\n",
       "even                  1.167e+15  3.862e+07   30224149   <2e-16 ***\n",
       "event                 7.280e+14  3.959e+07   18386715   <2e-16 ***\n",
       "ever                  5.772e+14  4.475e+07   12899105   <2e-16 ***\n",
       "everi                 2.148e+15  2.653e+07   80980427   <2e-16 ***\n",
       "everyth              -6.958e+14  6.367e+07  -10929008   <2e-16 ***\n",
       "facebook             -1.341e+15  9.430e+07  -14222469   <2e-16 ***\n",
       "fail                 -2.548e+15  3.510e+07  -72575589   <2e-16 ***\n",
       "featur                1.773e+14  3.656e+07    4850016   <2e-16 ***\n",
       "feel                  8.002e+14  3.921e+07   20407610   <2e-16 ***\n",
       "femal                        NA         NA         NA       NA    \n",
       "figur                -2.527e+15  4.623e+07  -54655273   <2e-16 ***\n",
       "final                -3.477e+15  5.950e+07  -58435245   <2e-16 ***\n",
       "finger               -2.645e+15  3.418e+07  -77366926   <2e-16 ***\n",
       "fingerprint           4.760e+14  2.298e+07   20713180   <2e-16 ***\n",
       "fire                  2.828e+15  4.933e+07   57316024   <2e-16 ***\n",
       "first                 1.458e+15  4.033e+07   36155654   <2e-16 ***\n",
       "fix                  -2.650e+14  3.280e+07   -8079651   <2e-16 ***\n",
       "follow               -3.557e+13  2.524e+07   -1409359   <2e-16 ***\n",
       "freak                 2.104e+15  1.269e+07  165777355   <2e-16 ***\n",
       "free                  7.143e+14  3.469e+07   20590634   <2e-16 ***\n",
       "fun                  -1.388e+15  3.393e+07  -40911911   <2e-16 ***\n",
       "generat               2.357e+15  4.350e+07   54196798   <2e-16 ***\n",
       "genius               -2.098e+15  5.186e+07  -40460845   <2e-16 ***\n",
       "get                   6.084e+13  1.286e+07    4732254   <2e-16 ***\n",
       "give                 -2.574e+14  2.563e+07  -10041948   <2e-16 ***\n",
       "gold                 -1.155e+15  2.879e+07  -40096098   <2e-16 ***\n",
       "gonna                -1.685e+15  3.398e+07  -49578771   <2e-16 ***\n",
       "good                  1.545e+15  3.393e+07   45520463   <2e-16 ***\n",
       "googl                 1.063e+14  2.303e+07    4615714   <2e-16 ***\n",
       "got                   2.596e+14  3.399e+07    7638856   <2e-16 ***\n",
       "great                -1.823e+15  4.510e+07  -40410762   <2e-16 ***\n",
       "guess                -7.397e+14  4.829e+07  -15318050   <2e-16 ***\n",
       "guy                  -2.318e+15  3.129e+07  -74090279   <2e-16 ***\n",
       "happen               -8.156e+13  4.406e+07   -1851048   <2e-16 ***\n",
       "happi                -7.048e+14  4.359e+07  -16166552   <2e-16 ***\n",
       "hate                  2.911e+15  2.513e+07  115833825   <2e-16 ***\n",
       "help                 -2.523e+15  2.513e+07 -100399779   <2e-16 ***\n",
       "hey                  -1.223e+15  2.554e+07  -47869161   <2e-16 ***\n",
       "hope                  1.601e+15  3.280e+07   48803074   <2e-16 ***\n",
       "hour                 -1.005e+15  3.524e+07  -28504141   <2e-16 ***\n",
       "httpbitly18xc8dk      1.157e+15  9.701e+07   11930785   <2e-16 ***\n",
       "ibrooklynb           -1.032e+15  3.801e+07  -27162618   <2e-16 ***\n",
       "idea                 -1.204e+14  4.436e+07   -2715305   <2e-16 ***\n",
       "ill                   2.318e+15  5.577e+07   41553419   <2e-16 ***\n",
       "imessag               2.255e+15  3.977e+07   56704136   <2e-16 ***\n",
       "impress              -1.515e+14  3.082e+07   -4915433   <2e-16 ***\n",
       "improv                2.690e+15  3.456e+07   77843978   <2e-16 ***\n",
       "innov                -1.442e+14  2.963e+07   -4866461   <2e-16 ***\n",
       "instead              -1.498e+15  4.377e+07  -34231940   <2e-16 ***\n",
       "internet              2.794e+15  4.725e+07   59127083   <2e-16 ***\n",
       "ios7                  5.086e+14  2.211e+07   23000371   <2e-16 ***\n",
       "ipad                  6.468e+14  1.632e+07   39629436   <2e-16 ***\n",
       "iphon                 4.173e+14  7.159e+06   58291941   <2e-16 ***\n",
       "iphone4               7.651e+14  4.920e+07   15550217   <2e-16 ***\n",
       "iphone5              -6.334e+14  1.469e+07  -43124910   <2e-16 ***\n",
       "iphone5c             -4.321e+14  1.722e+07  -25095539   <2e-16 ***\n",
       "iphoto               -3.185e+15  8.144e+07  -39107668   <2e-16 ***\n",
       "ipod                 -7.236e+14  4.168e+07  -17359030   <2e-16 ***\n",
       "ipodplayerpromo       1.788e+15  5.365e+07   33319157   <2e-16 ***\n",
       "isnt                 -8.718e+14  3.342e+07  -26086149   <2e-16 ***\n",
       "itun                  1.140e+15  2.475e+07   46048424   <2e-16 ***\n",
       "ive                  -1.780e+15  4.976e+07  -35766699   <2e-16 ***\n",
       "job                   2.094e+15  5.409e+07   38722373   <2e-16 ***\n",
       "just                  4.634e+13  1.485e+07    3121098   <2e-16 ***\n",
       "keynot               -1.032e+15  3.632e+07  -28416959   <2e-16 ***\n",
       "know                 -6.216e+14  2.869e+07  -21664143   <2e-16 ***\n",
       "last                 -7.473e+14  4.573e+07  -16341459   <2e-16 ***\n",
       "launch               -1.547e+15  4.400e+07  -35165178   <2e-16 ***\n",
       "let                  -1.135e+15  3.636e+07  -31220842   <2e-16 ***\n",
       "life                  1.275e+15  3.133e+07   40702429   <2e-16 ***\n",
       "like                  4.141e+14  1.380e+07   30006288   <2e-16 ***\n",
       "line                  1.682e+15  5.901e+07   28499540   <2e-16 ***\n",
       "lmao                 -1.192e+15  4.065e+07  -29326129   <2e-16 ***\n",
       "lock                 -2.872e+15  4.315e+07  -66560016   <2e-16 ***\n",
       "lol                   5.044e+13  2.226e+07    2265630   <2e-16 ***\n",
       "look                 -7.763e+13  1.927e+07   -4028616   <2e-16 ***\n",
       "los                  -6.420e+14  6.879e+07   -9333718   <2e-16 ***\n",
       "lost                 -5.891e+14  4.914e+07  -11989088   <2e-16 ***\n",
       "love                 -1.202e+15  2.229e+07  -53943157   <2e-16 ***\n",
       "mac                   9.769e+14  2.872e+07   34013179   <2e-16 ***\n",
       "macbook               4.307e+13  3.650e+07    1179776   <2e-16 ***\n",
       "made                 -3.676e+14  3.428e+07  -10722646   <2e-16 ***\n",
       "make                 -7.368e+14  1.544e+07  -47721208   <2e-16 ***\n",
       "man                  -8.257e+14  3.996e+07  -20661143   <2e-16 ***\n",
       "mani                  1.046e+15  4.655e+07   22469754   <2e-16 ***\n",
       "market                2.180e+15  2.693e+07   80948363   <2e-16 ***\n",
       "mayb                 -1.055e+13  3.961e+07    -266228   <2e-16 ***\n",
       "mean                 -7.124e+14  4.017e+07  -17732046   <2e-16 ***\n",
       "microsoft            -3.630e+14  2.108e+07  -17221745   <2e-16 ***\n",
       "mishiza              -1.576e+15  3.955e+07  -39844671   <2e-16 ***\n",
       "miss                  1.294e+15  4.084e+07   31688318   <2e-16 ***\n",
       "mobil                -1.302e+15  2.734e+07  -47615872   <2e-16 ***\n",
       "money                 2.129e+15  6.131e+07   34721856   <2e-16 ***\n",
       "motorola              4.555e+14  4.287e+07   10626585   <2e-16 ***\n",
       "move                  9.522e+14  5.308e+07   17938753   <2e-16 ***\n",
       "much                  1.188e+15  3.177e+07   37379679   <2e-16 ***\n",
       "music                -1.455e+15  6.402e+07  -22723805   <2e-16 ***\n",
       "natz0711                     NA         NA         NA       NA    \n",
       "need                 -8.657e+14  1.821e+07  -47551869   <2e-16 ***\n",
       "never                -1.091e+15  3.783e+07  -28849231   <2e-16 ***\n",
       "new                  -1.221e+14  1.066e+07  -11451854   <2e-16 ***\n",
       "news                 -4.930e+14  3.033e+07  -16255500   <2e-16 ***\n",
       "next.                 2.700e+14  2.615e+07   10323756   <2e-16 ***\n",
       "nfc                  -3.034e+15  4.427e+07  -68534784   <2e-16 ***\n",
       "nokia                 2.465e+14  2.443e+07   10090379   <2e-16 ***\n",
       "noth                 -6.561e+14  4.374e+07  -15001719   <2e-16 ***\n",
       "now                  -2.068e+14  1.603e+07  -12899441   <2e-16 ***\n",
       "nsa                   2.072e+14  3.148e+07    6581128   <2e-16 ***\n",
       "nuevo                -1.623e+15  6.661e+07  -24362282   <2e-16 ***\n",
       "offer                -2.779e+15  3.757e+07  -73948789   <2e-16 ***\n",
       "old                   1.134e+14  3.002e+07    3777774   <2e-16 ***\n",
       "one                  -8.885e+14  1.629e+07  -54527529   <2e-16 ***\n",
       "page                 -2.566e+15  4.623e+07  -55503269   <2e-16 ***\n",
       "para                 -2.795e+12  3.057e+07     -91437   <2e-16 ***\n",
       "peopl                -1.734e+14  2.695e+07   -6435236   <2e-16 ***\n",
       "perfect              -3.988e+15  6.262e+07  -63686377   <2e-16 ***\n",
       "person                1.999e+15  4.550e+07   43931553   <2e-16 ***\n",
       "phone                -3.829e+14  1.304e+07  -29351510   <2e-16 ***\n",
       "photog                       NA         NA         NA       NA    \n",
       "photographi                  NA         NA         NA       NA    \n",
       "pictur                1.638e+15  3.441e+07   47591302   <2e-16 ***\n",
       "plastic               3.105e+14  3.327e+07    9334582   <2e-16 ***\n",
       "play                 -6.382e+14  4.390e+07  -14539285   <2e-16 ***\n",
       "pleas                -7.133e+14  2.295e+07  -31079379   <2e-16 ***\n",
       "ppl                  -3.216e+14  2.959e+07  -10868481   <2e-16 ***\n",
       "preorder             -1.600e+15  2.873e+07  -55689246   <2e-16 ***\n",
       "price                -9.747e+14  2.412e+07  -40417262   <2e-16 ***\n",
       "print                -2.787e+15  4.089e+07  -68162730   <2e-16 ***\n",
       "pro                  -1.656e+15  6.541e+07  -25319490   <2e-16 ***\n",
       "problem               9.355e+14  3.855e+07   24271150   <2e-16 ***\n",
       "product               2.437e+14  3.426e+07    7113492   <2e-16 ***\n",
       "promo                 7.751e+14  7.623e+06  101677997   <2e-16 ***\n",
       "promoipodplayerpromo -6.424e+15  4.896e+07 -131211766   <2e-16 ***\n",
       "put                  -1.601e+15  3.625e+07  -44179641   <2e-16 ***\n",
       "que                  -1.506e+15  2.548e+07  -59081571   <2e-16 ***\n",
       "quiet                        NA         NA         NA       NA    \n",
       "read                  2.398e+15  5.920e+07   40506843   <2e-16 ***\n",
       "realli               -1.420e+15  1.961e+07  -72389207   <2e-16 ***\n",
       "recommend                    NA         NA         NA       NA    \n",
       "refus                -1.571e+15  2.219e+08   -7080135   <2e-16 ***\n",
       "releas               -7.274e+14  2.651e+07  -27437977   <2e-16 ***\n",
       "right                -2.500e+15  3.356e+07  -74492463   <2e-16 ***\n",
       "said                  8.413e+13  4.600e+07    1828919   <2e-16 ***\n",
       "samsung              -9.629e+14  2.135e+07  -45106056   <2e-16 ***\n",
       "samsungsa                    NA         NA         NA       NA    \n",
       "say                  -1.215e+15  2.609e+07  -46557755   <2e-16 ***\n",
       "scanner               3.810e+14  3.764e+07   10122721   <2e-16 ***\n",
       "screen                2.377e+15  3.255e+07   73022515   <2e-16 ***\n",
       "secur                -4.159e+14  4.003e+07  -10388292   <2e-16 ***\n",
       "see                  -2.017e+15  3.483e+07  -57927119   <2e-16 ***\n",
       "seem                  1.276e+15  3.886e+07   32828879   <2e-16 ***\n",
       "sell                 -3.722e+14  3.400e+07  -10946836   <2e-16 ***\n",
       "send                 -2.515e+15  4.526e+07  -55573796   <2e-16 ***\n",
       "servic               -1.588e+15  3.904e+07  -40687542   <2e-16 ***\n",
       "shame                 3.246e+15  8.598e+07   37748442   <2e-16 ***\n",
       "share                 8.995e+13  3.103e+07    2898212   <2e-16 ***\n",
       "short                 1.606e+15  4.595e+07   34947474   <2e-16 ***\n",
       "show                 -1.531e+15  4.690e+07  -32648956   <2e-16 ***\n",
       "simpl                -5.192e+13  4.840e+07   -1072854   <2e-16 ***\n",
       "sinc                 -1.274e+15  3.599e+07  -35405963   <2e-16 ***\n",
       "siri                  2.373e+14  2.898e+07    8188295   <2e-16 ***\n",
       "smart                -4.485e+15  5.420e+07  -82741273   <2e-16 ***\n",
       "smartphon             1.510e+15  4.402e+07   34309824   <2e-16 ***\n",
       "someth                4.464e+14  4.485e+07    9952859   <2e-16 ***\n",
       "soon                 -9.793e+14  5.329e+07  -18375021   <2e-16 ***\n",
       "stand                -3.140e+14  4.622e+07   -6793879   <2e-16 ***\n",
       "start                 2.151e+15  3.619e+07   59428930   <2e-16 ***\n",
       "steve                -4.948e+14  3.778e+07  -13096045   <2e-16 ***\n",
       "still                 6.501e+14  2.562e+07   25377683   <2e-16 ***\n",
       "stop                 -1.020e+15  2.912e+07  -35030459   <2e-16 ***\n",
       "store                 1.339e+14  1.566e+07    8546091   <2e-16 ***\n",
       "stuff                 4.353e+14  3.041e+07   14316922   <2e-16 ***\n",
       "stupid                1.773e+15  3.776e+07   46944857   <2e-16 ***\n",
       "suck                  2.364e+15  5.902e+07   40056951   <2e-16 ***\n",
       "support              -9.727e+14  2.526e+07  -38507403   <2e-16 ***\n",
       "sure                  5.007e+14  2.444e+07   20491412   <2e-16 ***\n",
       "switch                1.665e+15  3.713e+07   44849279   <2e-16 ***\n",
       "take                  2.329e+15  3.049e+07   76370952   <2e-16 ***\n",
       "talk                  4.772e+14  4.092e+07   11662481   <2e-16 ***\n",
       "team                  7.208e+14  4.279e+07   16844000   <2e-16 ***\n",
       "tech                 -3.217e+14  2.826e+07  -11380702   <2e-16 ***\n",
       "technolog             1.045e+15  4.789e+07   21829089   <2e-16 ***\n",
       "tell                 -5.164e+15  3.032e+07 -170283726   <2e-16 ***\n",
       "text                 -1.439e+15  2.855e+07  -50417644   <2e-16 ***\n",
       "thank                 3.201e+14  1.624e+07   19716180   <2e-16 ***\n",
       "that                  1.623e+15  2.743e+07   59171815   <2e-16 ***\n",
       "theyr                 2.000e+15  4.140e+07   48321529   <2e-16 ***\n",
       "thing                 7.062e+14  2.813e+07   25107019   <2e-16 ***\n",
       "think                 3.877e+14  1.731e+07   22399810   <2e-16 ***\n",
       "tho                  -1.250e+15  4.034e+07  -30995945   <2e-16 ***\n",
       "thought               1.908e+15  3.416e+07   55841014   <2e-16 ***\n",
       "time                 -1.340e+15  1.910e+07  -70170305   <2e-16 ***\n",
       "today                -1.627e+15  3.284e+07  -49537294   <2e-16 ***\n",
       "togeth                4.396e+14  4.243e+07   10361502   <2e-16 ***\n",
       "touch                -2.455e+15  3.590e+07  -68377808   <2e-16 ***\n",
       "touchid              -5.462e+14  3.271e+07  -16697142   <2e-16 ***\n",
       "tri                   9.436e+13  2.578e+07    3660759   <2e-16 ***\n",
       "true                 -8.270e+14  4.744e+07  -17432361   <2e-16 ***\n",
       "turn                  6.360e+14  3.881e+07   16385321   <2e-16 ***\n",
       "twitter              -1.118e+15  2.130e+07  -52502636   <2e-16 ***\n",
       "two                   1.097e+15  3.708e+07   29585333   <2e-16 ***\n",
       "updat                -6.905e+14  2.349e+07  -29401016   <2e-16 ***\n",
       "upgrad                1.923e+15  3.412e+07   56358321   <2e-16 ***\n",
       "use                  -5.377e+14  1.998e+07  -26913367   <2e-16 ***\n",
       "user                 -1.269e+15  4.875e+07  -26038203   <2e-16 ***\n",
       "via                  -3.420e+14  2.744e+07  -12464765   <2e-16 ***\n",
       "video                 5.142e+14  3.166e+07   16238536   <2e-16 ***\n",
       "wait                 -6.481e+14  2.648e+07  -24474791   <2e-16 ***\n",
       "want                  5.958e+14  2.132e+07   27942847   <2e-16 ***\n",
       "watch                -2.534e+15  4.225e+07  -59988422   <2e-16 ***\n",
       "way                   9.733e+14  2.652e+07   36701902   <2e-16 ***\n",
       "week                 -5.233e+14  3.010e+07  -17384317   <2e-16 ***\n",
       "well                 -4.044e+14  2.428e+07  -16658180   <2e-16 ***\n",
       "what                 -6.360e+14  3.505e+07  -18144040   <2e-16 ***\n",
       "white                -1.367e+15  3.818e+07  -35797974   <2e-16 ***\n",
       "will                 -1.032e+15  1.517e+07  -68056177   <2e-16 ***\n",
       "windowsphon           6.767e+14  3.529e+07   19173731   <2e-16 ***\n",
       "wish                 -1.422e+15  3.563e+07  -39925539   <2e-16 ***\n",
       "without               4.804e+15  7.809e+07   61518244   <2e-16 ***\n",
       "wonder               -3.117e+15  4.465e+07  -69811028   <2e-16 ***\n",
       "wont                  8.624e+14  2.439e+07   35363528   <2e-16 ***\n",
       "work                 -6.301e+14  2.149e+07  -29318033   <2e-16 ***\n",
       "world                 2.948e+14  3.288e+07    8967316   <2e-16 ***\n",
       "worst                -1.987e+15  4.205e+07  -47244311   <2e-16 ***\n",
       "wow                  -3.110e+15  4.167e+07  -74631892   <2e-16 ***\n",
       "wtf                   3.828e+15  3.388e+07  112993876   <2e-16 ***\n",
       "yall                 -1.203e+15  2.750e+07  -43735662   <2e-16 ***\n",
       "year                  3.005e+15  3.637e+07   82622701   <2e-16 ***\n",
       "yes                   2.483e+15  4.189e+07   59284577   <2e-16 ***\n",
       "yet                  -1.624e+15  3.875e+07  -41925368   <2e-16 ***\n",
       "yooo                  2.466e+15  4.613e+07   53455625   <2e-16 ***\n",
       "your                  1.891e+15  2.973e+07   63613847   <2e-16 ***\n",
       "---\n",
       "Signif. codes:  0 ‘***’ 0.001 ‘**’ 0.01 ‘*’ 0.05 ‘.’ 0.1 ‘ ’ 1\n",
       "\n",
       "(Dispersion parameter for binomial family taken to be 1)\n",
       "\n",
       "    Null deviance:  708.98  on 825  degrees of freedom\n",
       "Residual deviance: 2234.71  on 523  degrees of freedom\n",
       "AIC: 2840.7\n",
       "\n",
       "Number of Fisher Scoring iterations: 25\n"
      ]
     },
     "execution_count": 32,
     "metadata": {},
     "output_type": "execute_result"
    }
   ],
   "source": [
    "# Logistic Regression Model\n",
    "tweetLog = glm(Negative ~ ., data=trainSparse, , family=binomial)\n",
    "summary(tweetLog)"
   ]
  },
  {
   "cell_type": "code",
   "execution_count": 33,
   "metadata": {
    "collapsed": false
   },
   "outputs": [
    {
     "name": "stderr",
     "output_type": "stream",
     "text": [
      "Warning message:\n",
      "In predict.lm(object, newdata, se.fit, scale = 1, type = ifelse(type == : prediction from a rank-deficient fit may be misleading"
     ]
    }
   ],
   "source": [
    "predictions = predict(tweetLog, newdata=testSparse, type=\"response\")\n",
    "\n"
   ]
  },
  {
   "cell_type": "code",
   "execution_count": 35,
   "metadata": {
    "collapsed": false
   },
   "outputs": [
    {
     "data": {
      "text/plain": [
       "       \n",
       "        FALSE TRUE\n",
       "  FALSE   254   46\n",
       "  TRUE     22   33"
      ]
     },
     "execution_count": 35,
     "metadata": {},
     "output_type": "execute_result"
    }
   ],
   "source": [
    "table(testSparse$Negative, predictions > 0.5)\n"
   ]
  },
  {
   "cell_type": "code",
   "execution_count": 36,
   "metadata": {
    "collapsed": false
   },
   "outputs": [
    {
     "data": {
      "text/html": [
       "0.808450704225352"
      ],
      "text/latex": [
       "0.808450704225352"
      ],
      "text/markdown": [
       "0.808450704225352"
      ],
      "text/plain": [
       "[1] 0.8084507"
      ]
     },
     "execution_count": 36,
     "metadata": {},
     "output_type": "execute_result"
    }
   ],
   "source": [
    "(254 + 33)/(293+7+34+21)"
   ]
  },
  {
   "cell_type": "code",
   "execution_count": null,
   "metadata": {
    "collapsed": true
   },
   "outputs": [],
   "source": []
  }
 ],
 "metadata": {
  "kernelspec": {
   "display_name": "R",
   "language": "R",
   "name": "ir"
  },
  "language_info": {
   "codemirror_mode": "r",
   "file_extension": ".r",
   "mimetype": "text/x-r-source",
   "name": "R",
   "pygments_lexer": "r",
   "version": "3.2.2"
  }
 },
 "nbformat": 4,
 "nbformat_minor": 0
}
